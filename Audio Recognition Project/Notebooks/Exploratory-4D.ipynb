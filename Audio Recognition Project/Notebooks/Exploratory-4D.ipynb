{
 "cells": [
  {
   "cell_type": "code",
   "execution_count": 2,
   "metadata": {},
   "outputs": [],
   "source": [
    "from IPython.display import Audio as Audio\n",
    "\n",
    "#necessary libraries\n",
    "import librosa\n",
    "import os\n",
    "import pandas as pd\n",
    "import glob\n",
    "import numpy as np\n",
    "import matplotlib.pyplot as plt"
   ]
  },
  {
   "cell_type": "markdown",
   "metadata": {},
   "source": [
    "## Preliminary for feature extraction"
   ]
  },
  {
   "cell_type": "code",
   "execution_count": 2,
   "metadata": {},
   "outputs": [],
   "source": [
    "#import tracks csv file for track_id and genre_top\n",
    "tracks=pd.read_csv(\"./fma_metadata/tracks.csv\", low_memory=False)"
   ]
  },
  {
   "cell_type": "code",
   "execution_count": 3,
   "metadata": {},
   "outputs": [
    {
     "data": {
      "text/plain": [
       "2     2\n",
       "3     3\n",
       "4     5\n",
       "5    10\n",
       "6    20\n",
       "Name: Unnamed: 0, dtype: object"
      ]
     },
     "execution_count": 3,
     "metadata": {},
     "output_type": "execute_result"
    }
   ],
   "source": [
    "#all track ids start from index 2\n",
    "id=tracks['Unnamed: 0'][2:]\n",
    "id.head()"
   ]
  },
  {
   "cell_type": "code",
   "execution_count": 4,
   "metadata": {},
   "outputs": [
    {
     "data": {
      "text/plain": [
       "2    Hip-Hop\n",
       "3    Hip-Hop\n",
       "4    Hip-Hop\n",
       "5        Pop\n",
       "6        NaN\n",
       "Name: track.7, dtype: object"
      ]
     },
     "execution_count": 4,
     "metadata": {},
     "output_type": "execute_result"
    }
   ],
   "source": [
    "#labels for tracks start from index 2\n",
    "genre=tracks['track.7'][2:]\n",
    "genre.head()"
   ]
  },
  {
   "cell_type": "code",
   "execution_count": 5,
   "metadata": {},
   "outputs": [
    {
     "data": {
      "text/plain": [
       "2    000002.mp3\n",
       "3    000003.mp3\n",
       "4    000005.mp3\n",
       "5    000010.mp3\n",
       "6    000020.mp3\n",
       "Name: Unnamed: 0, dtype: object"
      ]
     },
     "execution_count": 5,
     "metadata": {},
     "output_type": "execute_result"
    }
   ],
   "source": [
    "#change the track_id name to match fma_small filenames\n",
    "count=2\n",
    "for i in id:\n",
    "    if len(i)==1:\n",
    "        id[count]='00000'+i+'.mp3'\n",
    "        count+=1\n",
    "    elif len(i)==2:\n",
    "        id[count]='0000'+i+'.mp3'\n",
    "        count+=1\n",
    "    elif len(i)==3:\n",
    "        id[count]='000'+i+'.mp3'\n",
    "        count+=1\n",
    "    elif len(i)==4:\n",
    "        id[count]='00'+i+'.mp3'\n",
    "        count+=1\n",
    "    elif len(i)==5:\n",
    "        id[count]='0'+i+'.mp3'\n",
    "        count+=1\n",
    "#check if it worked\n",
    "id.head()"
   ]
  },
  {
   "cell_type": "code",
   "execution_count": 2,
   "metadata": {},
   "outputs": [],
   "source": [
    "#describe genres by label number\n",
    "dict_characters={0: 'Hip-Hop',1: 'Pop',2: 'Folk',3: 'Rock',4: 'Experimental',5: 'International',6: 'Instrumental',7: 'Electronic'}"
   ]
  },
  {
   "cell_type": "code",
   "execution_count": 9,
   "metadata": {},
   "outputs": [],
   "source": [
    "# Audio preprocessing function\n",
    "def compute_melgram(audio_path):\n",
    "    ''' Compute a mel-spectrogram and returns it in a shape of (1,1,96,1366), where\n",
    "    96 == #mel-bins and 1366 == #time frame\n",
    "    parameters\n",
    "    ----------\n",
    "    audio_path: path for the audio file.\n",
    "                Any format supported by audioread will work.\n",
    "    More info: http://librosa.github.io/librosa/generated/librosa.core.load.html#librosa.core.load\n",
    "    '''\n",
    "\n",
    "    # mel-spectrogram parameters\n",
    "    SR = 12000\n",
    "    N_FFT = 512\n",
    "    N_MELS = 96\n",
    "    HOP_LEN = 256\n",
    "    DURA = 29.12  # to make it 1366 frame..\n",
    "\n",
    "    src, sr = librosa.load(audio_path, sr=SR)  # whole signal\n",
    "    n_sample = src.shape[0]\n",
    "    n_sample_fit = int(DURA*SR)\n",
    "\n",
    "    if n_sample < n_sample_fit:  # if too short\n",
    "        src = np.hstack((src, np.zeros((int(DURA*SR) - n_sample,))))\n",
    "    elif n_sample > n_sample_fit:  # if too long\n",
    "        src = src[int((n_sample-n_sample_fit)/2):int((n_sample+n_sample_fit)/2)]\n",
    "    logam = librosa.amplitude_to_db\n",
    "    melgram = librosa.feature.melspectrogram\n",
    "    ret = logam(melgram(y=src, sr=SR, hop_length=HOP_LEN,\n",
    "                        n_fft=N_FFT, n_mels=N_MELS)**2,\n",
    "                ref=1.0)\n",
    "    ret = ret[np.newaxis, :]\n",
    "    return ret"
   ]
  },
  {
   "cell_type": "code",
   "execution_count": 10,
   "metadata": {},
   "outputs": [],
   "source": [
    "#practice with melgram function\n",
    "a=compute_melgram(\"./fma_small/000/000005.mp3\")"
   ]
  },
  {
   "cell_type": "code",
   "execution_count": 11,
   "metadata": {},
   "outputs": [
    {
     "data": {
      "text/plain": [
       "(1, 96, 1366)"
      ]
     },
     "execution_count": 11,
     "metadata": {},
     "output_type": "execute_result"
    }
   ],
   "source": [
    "#we have 4D!\n",
    "a.shape"
   ]
  },
  {
   "cell_type": "code",
   "execution_count": 356,
   "metadata": {},
   "outputs": [],
   "source": [
    "#load audio files and extract features\n",
    "mels=[] #will hold feature data\n",
    "labs=[] #will hold label data\n",
    "path=os.path.abspath(os.path.join(\"./fma_small/\"))\n",
    "for subfolder in os.listdir(path):\n",
    "    for filename in os.listdir(os.path.join(path,subfolder)):\n",
    "        try:\n",
    "            #song, samp_rate=librosa.load(os.path.join(path,subfolder,filename), sr=None, res_type='kaiser_best')\n",
    "            #extract mfcc feature from data\n",
    "            #compute_melgram program automatically creates a 4D space \n",
    "            melgram=compute_melgram(os.path.join(path,subfolder,filename))\n",
    "            mels.append(melgram)\n",
    "            label=genre.loc[id == filename].values.tolist()\n",
    "            if not label:\n",
    "                label=genre.loc[id == filename[:6]].values.tolist()\n",
    "            for key in dict_characters:\n",
    "                if label[0] == dict_characters[key]:\n",
    "                    labs.append(key)\n",
    "                    break\n",
    "                elif not label:\n",
    "                    labs.append(8)\n",
    "                    break\n",
    "            #print('Success! Filename=%s with genre=%s' % (filename, label[0]))\n",
    "        except Exception as e:\n",
    "            filename='.ipynb_checkpoints'"
   ]
  },
  {
   "cell_type": "code",
   "execution_count": 360,
   "metadata": {},
   "outputs": [
    {
     "data": {
      "text/plain": [
       "7997"
      ]
     },
     "execution_count": 360,
     "metadata": {},
     "output_type": "execute_result"
    }
   ],
   "source": [
    "len(mels)"
   ]
  },
  {
   "cell_type": "raw",
   "metadata": {},
   "source": [
    "#some of the songs had shapes different from (1,1,96,1406) so we have to remove those in order to save to an array\n",
    "count=0\n",
    "good=0\n",
    "for i in range(len(mels)):\n",
    "    if mels[i].shape[3]!=1406:\n",
    "        count=count+1\n",
    "    else:\n",
    "        good=good+1\n",
    "print(count, good)"
   ]
  },
  {
   "cell_type": "raw",
   "metadata": {},
   "source": [
    "x=mels[0:5]"
   ]
  },
  {
   "cell_type": "raw",
   "metadata": {},
   "source": [
    "for i in range(len(x)):\n",
    "    if x[i].shape[3]<2000:\n",
    "        x[i]=x[i].T\n",
    "        x[i]=x[i][:1366]\n",
    "        x[i]=x[i].T"
   ]
  },
  {
   "cell_type": "markdown",
   "metadata": {},
   "source": [
    "### Start slicing and reshaping"
   ]
  },
  {
   "cell_type": "raw",
   "metadata": {},
   "source": [
    "#transpose all observations, cut down to length=1366 in 4D, and then transpose back to original shape\n",
    "#should give a standardized shape of (1,1,96,1366)\n",
    "for i in range(len(mels)):\n",
    "    if mels[i].shape[3] < 2000:\n",
    "        mels[i]=mels[i].T\n",
    "        mels[i]=mels[i][:1366]\n",
    "        mels[i]=mels[i].T"
   ]
  },
  {
   "cell_type": "raw",
   "metadata": {},
   "source": [
    "#check if this worked\n",
    "count=0\n",
    "for i in range(len(mels)):\n",
    "    if mels[i].shape[3] == 1366:\n",
    "        count=count+1\n",
    "print('Count: ',count)"
   ]
  },
  {
   "cell_type": "code",
   "execution_count": 425,
   "metadata": {},
   "outputs": [],
   "source": [
    "#save list as numpy array\n",
    "mels=np.array(mels)"
   ]
  },
  {
   "cell_type": "code",
   "execution_count": 426,
   "metadata": {},
   "outputs": [
    {
     "name": "stdout",
     "output_type": "stream",
     "text": [
      "(7997, 1, 1, 96, 1366)\n"
     ]
    }
   ],
   "source": [
    "#check the shape for 4D\n",
    "print(mels.shape)"
   ]
  },
  {
   "cell_type": "raw",
   "metadata": {},
   "source": [
    "#save the new 4D array\n",
    "np.save('mels.npy', mels)\n",
    "np.save('labs.npy', labs)"
   ]
  },
  {
   "cell_type": "code",
   "execution_count": 428,
   "metadata": {},
   "outputs": [
    {
     "data": {
      "text/plain": [
       "7997"
      ]
     },
     "execution_count": 428,
     "metadata": {},
     "output_type": "execute_result"
    }
   ],
   "source": [
    "len(labs)"
   ]
  },
  {
   "cell_type": "raw",
   "metadata": {},
   "source": [
    "#load the 4D array\n",
    "mels=np.load('mels.npy')\n",
    "labs=np.load('labs.npy')"
   ]
  },
  {
   "cell_type": "raw",
   "metadata": {},
   "source": [
    "#remove one of the dimensions with shape=1\n",
    "mels=mels[:,0,:,:,:]"
   ]
  },
  {
   "cell_type": "code",
   "execution_count": 440,
   "metadata": {},
   "outputs": [],
   "source": [
    "mels=list(mels)"
   ]
  },
  {
   "cell_type": "code",
   "execution_count": 441,
   "metadata": {},
   "outputs": [],
   "source": [
    "#create the dataframe\n",
    "df=pd.DataFrame()\n",
    "df['songs']=mels\n",
    "df['labels']=labs"
   ]
  },
  {
   "cell_type": "code",
   "execution_count": 442,
   "metadata": {},
   "outputs": [
    {
     "data": {
      "text/plain": [
       "<matplotlib.axes._subplots.AxesSubplot at 0x7fd4bb91a780>"
      ]
     },
     "execution_count": 442,
     "metadata": {},
     "output_type": "execute_result"
    },
    {
     "data": {
      "image/png": "[encoded data removed]",
      "text/plain": [
       "<Figure size 432x288 with 1 Axes>"
      ]
     },
     "metadata": {},
     "output_type": "display_data"
    }
   ],
   "source": [
    "lab=df['labels']\n",
    "dist=lab.value_counts()\n",
    "\n",
    "#view the distribution of genres\n",
    "import seaborn as sns\n",
    "sns.countplot(lab)"
   ]
  },
  {
   "cell_type": "code",
   "execution_count": 443,
   "metadata": {},
   "outputs": [],
   "source": [
    "#put x back to list\n",
    "#*****REMEMBER: CONVERTING DATAFRAME TO NUMPY ARRAY FLATTENS THE DIMENSION TO 1, SO HAVE TO CONVERT BACK TO LIST FIRST*****#\n",
    "mels=list(df['songs'])"
   ]
  },
  {
   "cell_type": "code",
   "execution_count": 444,
   "metadata": {},
   "outputs": [
    {
     "name": "stdout",
     "output_type": "stream",
     "text": [
      "(7997, 1, 96, 1366)\n"
     ]
    }
   ],
   "source": [
    "#check dimension of features after dropping labels=8\n",
    "mels=np.array(mels)\n",
    "print(mels.shape)"
   ]
  },
  {
   "cell_type": "code",
   "execution_count": 445,
   "metadata": {},
   "outputs": [
    {
     "data": {
      "image/png": "[encoded data removed]",
      "text/plain": [
       "<Figure size 432x288 with 1 Axes>"
      ]
     },
     "metadata": {},
     "output_type": "display_data"
    }
   ],
   "source": [
    "#balance the music genres \n",
    "from sklearn.utils import class_weight\n",
    "class_weight4D=class_weight.compute_class_weight('balanced', np.unique(labs), labs)\n",
    "plt.plot(class_weight4D)\n",
    "plt.xlabel('Music Genre')\n",
    "plt.ylabel('Weight')\n",
    "\n",
    "#save class_weights\n",
    "np.save('class_weight4D.npy', class_weight4D)"
   ]
  },
  {
   "cell_type": "code",
   "execution_count": 461,
   "metadata": {},
   "outputs": [
    {
     "name": "stdout",
     "output_type": "stream",
     "text": [
      "(7997,)\n"
     ]
    }
   ],
   "source": [
    "#view dimension of labels\n",
    "print(lab.shape)"
   ]
  },
  {
   "cell_type": "code",
   "execution_count": 462,
   "metadata": {},
   "outputs": [
    {
     "name": "stdout",
     "output_type": "stream",
     "text": [
      "(3998, 1, 96, 1366)\n",
      "(3999, 1, 96, 1366)\n"
     ]
    }
   ],
   "source": [
    "#create training and testing data\n",
    "from sklearn.model_selection import train_test_split\n",
    "x_train,x_test,y_train,y_test=train_test_split(mels,labs,test_size=0.5)\n",
    "\n",
    "#check the dimensions\n",
    "print(x_train.shape)\n",
    "print(x_test.shape)"
   ]
  },
  {
   "cell_type": "code",
   "execution_count": 463,
   "metadata": {},
   "outputs": [
    {
     "name": "stderr",
     "output_type": "stream",
     "text": [
      "/home/cc/.local/lib/python3.5/site-packages/h5py/__init__.py:36: FutureWarning: Conversion of the second argument of issubdtype from `float` to `np.floating` is deprecated. In future, it will be treated as `np.float64 == np.dtype(float).type`.\n",
      "  from ._conv import register_converters as _register_converters\n",
      "Using TensorFlow backend.\n"
     ]
    }
   ],
   "source": [
    "#dummy code labels using one hot encoding\n",
    "from keras.utils.np_utils import to_categorical\n",
    "\n",
    "y_trainHot=to_categorical(y_train,num_classes=8)\n",
    "y_testHot=to_categorical(y_test,num_classes=8)"
   ]
  },
  {
   "cell_type": "raw",
   "metadata": {},
   "source": [
    "#save variables\n",
    "np.save('x_train4DHalf.npy', x_train)\n",
    "np.save('x_test4DHalf.npy', x_test)\n",
    "np.save('y_trainHot4DHalf.npy', y_trainHot)\n",
    "np.save('y_testHot4DHalf.npy', y_testHot)"
   ]
  },
  {
   "cell_type": "code",
   "execution_count": 1,
   "metadata": {},
   "outputs": [
    {
     "ename": "NameError",
     "evalue": "name 'np' is not defined",
     "output_type": "error",
     "traceback": [
      "\u001b[0;31m---------------------------------------------------------------------------\u001b[0m",
      "\u001b[0;31mNameError\u001b[0m                                 Traceback (most recent call last)",
      "\u001b[0;32m<ipython-input-1-affdf25c1553>\u001b[0m in \u001b[0;36m<module>\u001b[0;34m()\u001b[0m\n\u001b[1;32m      1\u001b[0m \u001b[0;31m#load the variables\u001b[0m\u001b[0;34m\u001b[0m\u001b[0;34m\u001b[0m\u001b[0m\n\u001b[0;32m----> 2\u001b[0;31m \u001b[0mx_train\u001b[0m\u001b[0;34m=\u001b[0m\u001b[0mnp\u001b[0m\u001b[0;34m.\u001b[0m\u001b[0mload\u001b[0m\u001b[0;34m(\u001b[0m\u001b[0;34m'x_train4DHalf.npy'\u001b[0m\u001b[0;34m)\u001b[0m\u001b[0;34m\u001b[0m\u001b[0m\n\u001b[0m\u001b[1;32m      3\u001b[0m \u001b[0mx_test\u001b[0m\u001b[0;34m=\u001b[0m\u001b[0mnp\u001b[0m\u001b[0;34m.\u001b[0m\u001b[0mload\u001b[0m\u001b[0;34m(\u001b[0m\u001b[0;34m'x_test4DHalf.npy'\u001b[0m\u001b[0;34m)\u001b[0m\u001b[0;34m\u001b[0m\u001b[0m\n\u001b[1;32m      4\u001b[0m \u001b[0my_trainHot\u001b[0m\u001b[0;34m=\u001b[0m\u001b[0mnp\u001b[0m\u001b[0;34m.\u001b[0m\u001b[0mload\u001b[0m\u001b[0;34m(\u001b[0m\u001b[0;34m'y_trainHot4DHalf.npy'\u001b[0m\u001b[0;34m)\u001b[0m\u001b[0;34m\u001b[0m\u001b[0m\n\u001b[1;32m      5\u001b[0m \u001b[0my_testHot\u001b[0m\u001b[0;34m=\u001b[0m\u001b[0mnp\u001b[0m\u001b[0;34m.\u001b[0m\u001b[0mload\u001b[0m\u001b[0;34m(\u001b[0m\u001b[0;34m'y_testHot4DHalf.npy'\u001b[0m\u001b[0;34m)\u001b[0m\u001b[0;34m\u001b[0m\u001b[0m\n",
      "\u001b[0;31mNameError\u001b[0m: name 'np' is not defined"
     ]
    }
   ],
   "source": [
    "#load the variables\n",
    "x_train=np.load('x_train4DHalf.npy')\n",
    "x_test=np.load('x_test4DHalf.npy')\n",
    "y_trainHot=np.load('y_trainHot4DHalf.npy')\n",
    "y_testHot=np.load('y_testHot4DHalf.npy')"
   ]
  },
  {
   "cell_type": "code",
   "execution_count": 19,
   "metadata": {},
   "outputs": [],
   "source": [
    "#load the class weights\n",
    "class_weight4D=np.load('class_weight4D.npy')"
   ]
  },
  {
   "cell_type": "code",
   "execution_count": 4,
   "metadata": {},
   "outputs": [
    {
     "name": "stderr",
     "output_type": "stream",
     "text": [
      "/home/cc/.local/lib/python3.5/site-packages/h5py/__init__.py:36: FutureWarning: Conversion of the second argument of issubdtype from `float` to `np.floating` is deprecated. In future, it will be treated as `np.float64 == np.dtype(float).type`.\n",
      "  from ._conv import register_converters as _register_converters\n",
      "Using TensorFlow backend.\n"
     ]
    }
   ],
   "source": [
    "# Helper Functions, Learning Curves, and Confusion Matrix\n",
    "from keras.callbacks import Callback, EarlyStopping, ReduceLROnPlateau, ModelCheckpoint\n",
    "import matplotlib.pylab as plt\n",
    "\n",
    "#save all previous epochs for use in plotting Keras Learning Curve\n",
    "#this is used in function below called plotKerasLearningCurve\n",
    "class MetricsCheckpoint(Callback):\n",
    "    \"\"\"Callback that saves metrics after each epoch\"\"\"\n",
    "    def __init__(self, savepath):\n",
    "        super(MetricsCheckpoint, self).__init__()\n",
    "        self.savepath = savepath\n",
    "        self.history = {}\n",
    "    def on_epoch_end(self, epoch, logs=None):\n",
    "        for k, v in logs.items():\n",
    "            self.history.setdefault(k, []).append(v)\n",
    "        np.save(self.savepath, self.history)\n",
    "\n",
    "#Keras Learning Curve function\n",
    "def plotKerasLearningCurve():\n",
    "    plt.figure(figsize=(10,5))\n",
    "    metrics = np.load('logs.npy')[()]\n",
    "    filt = ['acc'] # try to add 'loss' to see the loss learning curve\n",
    "    for k in filter(lambda x : np.any([kk in x for kk in filt]), metrics.keys()):\n",
    "        l = np.array(metrics[k])\n",
    "        plt.plot(l, c= 'r' if 'val' not in k else 'b', label='val' if 'val' in k else 'train')\n",
    "        x = np.argmin(l) if 'loss' in k else np.argmax(l)\n",
    "        y = l[x]\n",
    "        plt.scatter(x,y, lw=0, alpha=0.25, s=100, c='r' if 'val' not in k else 'b')\n",
    "        plt.text(x, y, '{} = {:.4f}'.format(x,y), size='15', color= 'r' if 'val' not in k else 'b')\n",
    "    plt.legend(loc=4)\n",
    "    plt.axis([0, None, None, None]);\n",
    "    plt.grid()\n",
    "    plt.xlabel('Number of epochs')\n",
    "    \n",
    "#Confuson Matrix function\n",
    "import itertools\n",
    "def plot_confusion_matrix(cm, classes,normalize=False,title='Confusion matrix',cmap=plt.cm.Blues):\n",
    "    \"\"\"\n",
    "    This function prints and plots the confusion matrix.\n",
    "    Normalization can be applied by setting `normalize=True`.\n",
    "    \"\"\"\n",
    "    plt.figure(figsize = (5,5))\n",
    "    plt.imshow(cm, interpolation='nearest', cmap=cmap)\n",
    "    plt.title(title)\n",
    "    plt.colorbar()\n",
    "    tick_marks = np.arange(len(classes))\n",
    "    plt.xticks(tick_marks, classes, rotation=90)\n",
    "    plt.yticks(tick_marks, classes)\n",
    "    if normalize:\n",
    "        cm = cm.astype('float') / cm.sum(axis=1)[:, np.newaxis]\n",
    "\n",
    "    thresh = cm.max() / 2.\n",
    "    for i, j in itertools.product(range(cm.shape[0]), range(cm.shape[1])):\n",
    "        plt.text(j, i, cm[i, j],\n",
    "                 horizontalalignment=\"center\",\n",
    "                 color=\"white\" if cm[i, j] > thresh else \"black\")\n",
    "    plt.tight_layout()\n",
    "    plt.ylabel('True label')\n",
    "    plt.xlabel('Predicted label')"
   ]
  },
  {
   "cell_type": "code",
   "execution_count": 5,
   "metadata": {},
   "outputs": [],
   "source": [
    "#deep learning libraries\n",
    "from keras.models import Sequential\n",
    "from keras.layers import Dense,Dropout,Activation,Flatten,Conv2D,MaxPool2D,BatchNormalization\n",
    "from keras.optimizers import Adam\n",
    "import sklearn\n",
    "from sklearn import metrics\n",
    "from sklearn.metrics import classification_report,confusion_matrix"
   ]
  },
  {
   "cell_type": "code",
   "execution_count": 6,
   "metadata": {},
   "outputs": [
    {
     "name": "stdout",
     "output_type": "stream",
     "text": [
      "(1366, 96, 1, 3998)\n",
      "(1366, 96, 1, 3999)\n"
     ]
    }
   ],
   "source": [
    "x_train=x_train.T\n",
    "x_test=x_test.T\n",
    "print(x_train.shape)\n",
    "print(x_test.shape)"
   ]
  },
  {
   "cell_type": "code",
   "execution_count": 7,
   "metadata": {},
   "outputs": [],
   "source": [
    "x_train=np.moveaxis(x_train, 3, 0)"
   ]
  },
  {
   "cell_type": "code",
   "execution_count": 8,
   "metadata": {},
   "outputs": [],
   "source": [
    "x_test=np.moveaxis(x_test, 3, 0)"
   ]
  },
  {
   "cell_type": "code",
   "execution_count": 9,
   "metadata": {},
   "outputs": [
    {
     "data": {
      "text/plain": [
       "(3998, 1366, 96, 1)"
      ]
     },
     "execution_count": 9,
     "metadata": {},
     "output_type": "execute_result"
    }
   ],
   "source": [
    "x_train.shape"
   ]
  },
  {
   "cell_type": "code",
   "execution_count": 10,
   "metadata": {},
   "outputs": [
    {
     "data": {
      "text/plain": [
       "(3999, 1366, 96, 1)"
      ]
     },
     "execution_count": 10,
     "metadata": {},
     "output_type": "execute_result"
    }
   ],
   "source": [
    "x_test.shape"
   ]
  },
  {
   "cell_type": "code",
   "execution_count": 22,
   "metadata": {},
   "outputs": [],
   "source": [
    "#****EDIT THIS FOR TRYING DIFFERENT MODELS****#\n",
    "\n",
    "#deep learning model\n",
    "#a = x_train\n",
    "#b = y_trainHot\n",
    "#c = x_test\n",
    "#d = y_testHot\n",
    "#e = number of epochs\n",
    "def runCNNmodel(a,b,c,d,e):\n",
    "    batch=128\n",
    "    num_labels=8\n",
    "    one, two, three = x_train.shape[1], x_train.shape[2], x_train.shape[3]\n",
    "    input_shape = (one, two, three)\n",
    "    #intialize model\n",
    "    model=Sequential()\n",
    "    \n",
    "    #visible layers\n",
    "    model.add(Conv2D(filters=32, kernel_size=(3,3), activation='relu',input_shape=input_shape))\n",
    "    model.add(Conv2D(filters=32, kernel_size=(3,3), activation='relu',input_shape=input_shape))\n",
    "    model.add(MaxPool2D(pool_size=(2,2)))\n",
    "    model.add(BatchNormalization())\n",
    "    model.add(Dropout(0.25))\n",
    "\n",
    "    model.add(Conv2D(filters=64, kernel_size=(3,3), activation='relu',input_shape=input_shape))\n",
    "    model.add(Conv2D(filters=64, kernel_size=(3,3), activation='relu',input_shape=input_shape))\n",
    "    model.add(MaxPool2D(pool_size=(2,2)))\n",
    "    model.add(BatchNormalization())\n",
    "    model.add(Dropout(0.25))\n",
    "    \n",
    "    model.add(Conv2D(filters=128, kernel_size=(3,3), activation='relu',input_shape=input_shape))\n",
    "    model.add(Conv2D(filters=128, kernel_size=(3,3), activation='relu',input_shape=input_shape))\n",
    "    model.add(MaxPool2D(pool_size=(2,2)))\n",
    "    model.add(BatchNormalization())\n",
    "    model.add(Dropout(0.25))\n",
    "\n",
    "    \n",
    "    #8 output nodes\n",
    "    model.add(Flatten())\n",
    "    model.add(Dense(512, activation='relu')) #hidden layers\n",
    "    model.add(Dropout(0.25))\n",
    "    model.add(Dense(num_labels, activation='softmax'))\n",
    "    \n",
    "    #compile the model\n",
    "    model.compile(loss='categorical_crossentropy',metrics=['accuracy'],optimizer='adam')\n",
    "\n",
    "    #train the model\n",
    "    model.fit(a,b,batch_size=batch,epochs=e,validation_data=(c,d),callbacks=[MetricsCheckpoint('logs')], class_weight=class_weight4D)\n",
    "    \n",
    "    #compute predictions for confusion matrix\n",
    "    Y_pred = model.predict(c)\n",
    "    print('\\n', sklearn.metrics.classification_report(np.where(d > 0)[1], np.argmax(Y_pred, axis=1),target_names=list(dict_characters.values())), sep='')\n",
    "    Y_pred_classes = np.argmax(Y_pred,axis = 1)\n",
    "    Y_true = np.argmax(d,axis = 1)\n",
    "    confusion_mtx = confusion_matrix(Y_true, Y_pred_classes)\n",
    "    \n",
    "    #plot confusion matrix\n",
    "    plot_confusion_matrix(cm=confusion_mtx,classes=list(dict_characters.values()))"
   ]
  },
  {
   "cell_type": "code",
   "execution_count": null,
   "metadata": {},
   "outputs": [
    {
     "name": "stdout",
     "output_type": "stream",
     "text": [
      "Train on 3998 samples, validate on 3999 samples\n",
      "Epoch 1/5\n",
      "3998/3998 [==============================] - 941s 235ms/step - loss: 13.1464 - acc: 0.1603 - val_loss: 13.1572 - val_acc: 0.1828\n",
      "Epoch 2/5\n",
      "1280/3998 [========>.....................] - ETA: 9:33 - loss: 13.9885 - acc: 0.1313"
     ]
    }
   ],
   "source": [
    "#run the model\n",
    "runCNNmodel(x_train,y_trainHot,x_test,y_testHot,5)\n",
    "#plot learning curves across epochs\n",
    "plotKerasLearningCurve()"
   ]
  }
 ],
 "metadata": {
  "kernelspec": {
   "display_name": "Python 3",
   "language": "python",
   "name": "python3"
  },
  "language_info": {
   "codemirror_mode": {
    "name": "ipython",
    "version": 3
   },
   "file_extension": ".py",
   "mimetype": "text/x-python",
   "name": "python",
   "nbconvert_exporter": "python",
   "pygments_lexer": "ipython3",
   "version": "3.5.2"
  }
 },
 "nbformat": 4,
 "nbformat_minor": 2
}
