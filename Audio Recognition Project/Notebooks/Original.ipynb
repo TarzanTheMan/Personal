{
 "cells": [
  {
   "cell_type": "code",
   "execution_count": 16,
   "metadata": {},
   "outputs": [],
   "source": [
    "#necessary libraries\n",
    "import librosa\n",
    "import os\n",
    "import pandas as pd\n",
    "import glob"
   ]
  },
  {
   "cell_type": "code",
   "execution_count": 10,
   "metadata": {},
   "outputs": [],
   "source": [
    "#import tracks csv file for track_id and genre_top\n",
    "tracks=pd.read_csv(\"./fma_metadata/tracks.csv\", low_memory=False)"
   ]
  },
  {
   "cell_type": "code",
   "execution_count": 11,
   "metadata": {},
   "outputs": [
    {
     "data": {
      "text/plain": [
       "2     2\n",
       "3     3\n",
       "4     5\n",
       "5    10\n",
       "6    20\n",
       "Name: Unnamed: 0, dtype: object"
      ]
     },
     "execution_count": 11,
     "metadata": {},
     "output_type": "execute_result"
    }
   ],
   "source": [
    "#all track ids start from index 2\n",
    "id=tracks['Unnamed: 0'][2:]\n",
    "id.head()"
   ]
  },
  {
   "cell_type": "code",
   "execution_count": 12,
   "metadata": {},
   "outputs": [
    {
     "data": {
      "text/plain": [
       "2    Hip-Hop\n",
       "3    Hip-Hop\n",
       "4    Hip-Hop\n",
       "5        Pop\n",
       "6        NaN\n",
       "Name: track.7, dtype: object"
      ]
     },
     "execution_count": 12,
     "metadata": {},
     "output_type": "execute_result"
    }
   ],
   "source": [
    "#labels for tracks start from index 2\n",
    "genre=tracks['track.7'][2:]\n",
    "genre.head()"
   ]
  },
  {
   "cell_type": "code",
   "execution_count": 13,
   "metadata": {},
   "outputs": [
    {
     "data": {
      "text/plain": [
       "2    000002.mp3\n",
       "3    000003.mp3\n",
       "4    000005.mp3\n",
       "5    000010.mp3\n",
       "6    000020.mp3\n",
       "Name: Unnamed: 0, dtype: object"
      ]
     },
     "execution_count": 13,
     "metadata": {},
     "output_type": "execute_result"
    }
   ],
   "source": [
    "#change the track_id name to match fma_small filenames\n",
    "count=2\n",
    "for i in id:\n",
    "    if len(i)==1:\n",
    "        id[count]='00000'+i+'.mp3'\n",
    "        count+=1\n",
    "    elif len(i)==2:\n",
    "        id[count]='0000'+i+'.mp3'\n",
    "        count+=1\n",
    "    elif len(i)==3:\n",
    "        id[count]='000'+i+'.mp3'\n",
    "        count+=1\n",
    "    elif len(i)==4:\n",
    "        id[count]='00'+i+'.mp3'\n",
    "        count+=1\n",
    "    elif len(i)==5:\n",
    "        id[count]='0'+i+'.mp3'\n",
    "        count+=1\n",
    "#check if it worked\n",
    "id.head()"
   ]
  },
  {
   "cell_type": "code",
   "execution_count": 46,
   "metadata": {},
   "outputs": [
    {
     "name": "stdout",
     "output_type": "stream",
     "text": [
      "Error encountered for file:  .ipynb_checkpoints\n",
      "Error encountered for file:  133297.mp3\n",
      "Error encountered for file:  108925.mp3\n",
      "Error encountered for file:  099134.mp3\n"
     ]
    }
   ],
   "source": [
    "#load audio files and extract features\n",
    "x=[] #will hold feature data\n",
    "y=[] #will hold label data\n",
    "path=os.path.abspath(os.path.join(\"./fma_medium/\"))\n",
    "for subfolder in os.listdir(path):\n",
    "    for filename in os.listdir(os.path.join(path,subfolder)):\n",
    "        try:\n",
    "            song, samp_rate=librosa.load(os.path.join(path,subfolder,filename), res_type='kaiser_fast')\n",
    "            #extract mfcc feature from data\n",
    "            #mfcc = mel-frequency cepstral coefficients\n",
    "            #mfcc mimics the logarithmic perception of loudness and pitch of human auditory system and tries to eliminate speaker\n",
    "            #dependent characteristics by excluding the fundamental frequency and their harmonics\n",
    "            feature=np.mean(librosa.feature.mfcc(y=song, sr=samp_rate, n_mfcc=40).T, axis=0)\n",
    "            x.append(feature)\n",
    "            label=genre.loc[id == filename].values.tolist()\n",
    "            if 'Hip-Hop' in label:\n",
    "                label=0\n",
    "                y.append(label)\n",
    "            elif 'Pop' in label:\n",
    "                label=1\n",
    "                y.append(label)\n",
    "            elif 'Folk' in label:\n",
    "                label=2\n",
    "                y.append(label)\n",
    "            elif 'Rock' in label:\n",
    "                label=3\n",
    "                y.append(label)    \n",
    "            elif 'Experimental' in label:\n",
    "                label=4\n",
    "                y.append(label)    \n",
    "            elif 'International' in label:\n",
    "                label=5\n",
    "                y.append(label)    \n",
    "            elif 'Instrumental' in label:\n",
    "                label=6\n",
    "                y.append(label)    \n",
    "            elif 'Electronic' in label:\n",
    "                label=7\n",
    "                y.append(label)    \n",
    "            else:\n",
    "                y.append(8)\n",
    "        except Exception as e:\n",
    "            print(\"Error encountered for file: \", filename)"
   ]
  },
  {
   "cell_type": "code",
   "execution_count": null,
   "metadata": {},
   "outputs": [],
   "source": [
    "#save x and y before splitting into train/test and before putting into DataFrame\n",
    "np.save('x_all.npy', x)\n",
    "np.save('y_all.npy', y)"
   ]
  },
  {
   "cell_type": "code",
   "execution_count": null,
   "metadata": {},
   "outputs": [],
   "source": [
    "#load the x and y numpy arrays\n",
    "x=np.load('x_all.npy')\n",
    "y=np.load('y_all.npy')"
   ]
  },
  {
   "cell_type": "code",
   "execution_count": 47,
   "metadata": {},
   "outputs": [
    {
     "data": {
      "text/plain": [
       "<matplotlib.axes._subplots.AxesSubplot at 0x7fcb91832eb8>"
      ]
     },
     "execution_count": 47,
     "metadata": {},
     "output_type": "execute_result"
    },
    {
     "data": {
      "image/png": "[encoded data removed]",
      "text/plain": [
       "<Figure size 432x288 with 1 Axes>"
      ]
     },
     "metadata": {},
     "output_type": "display_data"
    }
   ],
   "source": [
    "df=pd.DataFrame()\n",
    "df['songs']=x\n",
    "df['labels']=y\n",
    "\n",
    "lab=df['labels']\n",
    "dist=lab.value_counts()\n",
    "\n",
    "#view the distribution of genres\n",
    "import seaborn as sns\n",
    "sns.countplot(lab)"
   ]
  },
  {
   "cell_type": "code",
   "execution_count": 48,
   "metadata": {},
   "outputs": [],
   "source": [
    "#convert features to numpy array\n",
    "import numpy as np\n",
    "x=np.array(x)\n",
    "\n",
    "#describe new numpy array\n",
    "dict_characters={0: 'Hip-Hop',1: 'Pop',2: 'Folk',3: 'Rock',4: 'Experimental',5: 'International',6: 'Instrumental',7: 'Electronic',8: 'Other'}\n",
    "#NOT SURE WHY SOME FILES READ IN WITH EMPTY GENRE...ONLY SUPPOSED TO HAVE 8 GENRES/ALL BALANCED\n",
    "#BECAUSE OF THIS ISSUE I CODED EMPTY GENRES TO 8 WHICH WE WILL DROP LATER"
   ]
  },
  {
   "cell_type": "code",
   "execution_count": 49,
   "metadata": {},
   "outputs": [
    {
     "name": "stdout",
     "output_type": "stream",
     "text": [
      "(5597, 40)\n",
      "(2400, 40)\n"
     ]
    }
   ],
   "source": [
    "#create training and testing data\n",
    "from sklearn.model_selection import train_test_split\n",
    "x_train,x_test,y_train,y_test=train_test_split(x,y,test_size=0.3)\n",
    "\n",
    "#check the dimensions\n",
    "print(x_train.shape)\n",
    "print(x_test.shape)"
   ]
  },
  {
   "cell_type": "code",
   "execution_count": 50,
   "metadata": {},
   "outputs": [
    {
     "name": "stderr",
     "output_type": "stream",
     "text": [
      "/home/cc/.local/lib/python3.5/site-packages/h5py/__init__.py:36: FutureWarning: Conversion of the second argument of issubdtype from `float` to `np.floating` is deprecated. In future, it will be treated as `np.float64 == np.dtype(float).type`.\n",
      "  from ._conv import register_converters as _register_converters\n",
      "Using TensorFlow backend.\n"
     ]
    }
   ],
   "source": [
    "#dummy code labels using one hot encoding\n",
    "from keras.utils.np_utils import to_categorical\n",
    "\n",
    "y_trainHot=to_categorical(y_train,num_classes=9)\n",
    "y_testHot=to_categorical(y_test,num_classes=9)"
   ]
  },
  {
   "cell_type": "code",
   "execution_count": 51,
   "metadata": {},
   "outputs": [],
   "source": [
    "#save variables using pickle\n",
    "np.save('x_train.npy', x_train)\n",
    "np.save('x_test.npy', x_test)\n",
    "np.save('y_train.npy', y_train) #not needed after this\n",
    "np.save('y_test.npy', y_test) #not needed after this\n",
    "np.save('y_trainHot.npy', y_trainHot)\n",
    "np.save('y_testHot.npy', y_testHot)"
   ]
  },
  {
   "cell_type": "code",
   "execution_count": 52,
   "metadata": {},
   "outputs": [
    {
     "data": {
      "text/plain": [
       "array([[0., 0., 0., ..., 0., 1., 0.],\n",
       "       [0., 0., 0., ..., 0., 1., 0.],\n",
       "       [0., 1., 0., ..., 0., 0., 0.],\n",
       "       ...,\n",
       "       [0., 1., 0., ..., 0., 0., 0.],\n",
       "       [0., 0., 0., ..., 0., 0., 0.],\n",
       "       [0., 0., 0., ..., 0., 0., 0.]])"
      ]
     },
     "execution_count": 52,
     "metadata": {},
     "output_type": "execute_result"
    }
   ],
   "source": [
    "#****START HERE FOR RUNNING ON YOUR OWN MACHINES****#\n",
    "#load the variables using pickle\n",
    "np.load('x_train.npy')\n",
    "np.load('x_test.npy')\n",
    "np.load('y_trainHot.npy')\n",
    "np.load('y_testHot.npy')"
   ]
  },
  {
   "cell_type": "code",
   "execution_count": 53,
   "metadata": {},
   "outputs": [],
   "source": [
    "# Helper Functions, Learning Curves, and Confusion Matrix\n",
    "from keras.callbacks import Callback, EarlyStopping, ReduceLROnPlateau, ModelCheckpoint\n",
    "import matplotlib.pylab as plt\n",
    "\n",
    "#save all previous epochs for use in plotting Keras Learning Curve\n",
    "#this is used in function below called plotKerasLearningCurve\n",
    "class MetricsCheckpoint(Callback):\n",
    "    \"\"\"Callback that saves metrics after each epoch\"\"\"\n",
    "    def __init__(self, savepath):\n",
    "        super(MetricsCheckpoint, self).__init__()\n",
    "        self.savepath = savepath\n",
    "        self.history = {}\n",
    "    def on_epoch_end(self, epoch, logs=None):\n",
    "        for k, v in logs.items():\n",
    "            self.history.setdefault(k, []).append(v)\n",
    "        np.save(self.savepath, self.history)\n",
    "\n",
    "#Keras Learning Curve function\n",
    "def plotKerasLearningCurve():\n",
    "    plt.figure(figsize=(10,5))\n",
    "    metrics = np.load('logs.npy')[()]\n",
    "    filt = ['acc'] # try to add 'loss' to see the loss learning curve\n",
    "    for k in filter(lambda x : np.any([kk in x for kk in filt]), metrics.keys()):\n",
    "        l = np.array(metrics[k])\n",
    "        plt.plot(l, c= 'r' if 'val' not in k else 'b', label='val' if 'val' in k else 'train')\n",
    "        x = np.argmin(l) if 'loss' in k else np.argmax(l)\n",
    "        y = l[x]\n",
    "        plt.scatter(x,y, lw=0, alpha=0.25, s=100, c='r' if 'val' not in k else 'b')\n",
    "        plt.text(x, y, '{} = {:.4f}'.format(x,y), size='15', color= 'r' if 'val' not in k else 'b')\n",
    "    plt.legend(loc=4)\n",
    "    plt.axis([0, None, None, None]);\n",
    "    plt.grid()\n",
    "    plt.xlabel('Number of epochs')\n",
    "    \n",
    "#Confuson Matrix function\n",
    "import itertools\n",
    "def plot_confusion_matrix(cm, classes,normalize=False,title='Confusion matrix',cmap=plt.cm.Blues):\n",
    "    \"\"\"\n",
    "    This function prints and plots the confusion matrix.\n",
    "    Normalization can be applied by setting `normalize=True`.\n",
    "    \"\"\"\n",
    "    plt.figure(figsize = (5,5))\n",
    "    plt.imshow(cm, interpolation='nearest', cmap=cmap)\n",
    "    plt.title(title)\n",
    "    plt.colorbar()\n",
    "    tick_marks = np.arange(len(classes))\n",
    "    plt.xticks(tick_marks, classes, rotation=90)\n",
    "    plt.yticks(tick_marks, classes)\n",
    "    if normalize:\n",
    "        cm = cm.astype('float') / cm.sum(axis=1)[:, np.newaxis]\n",
    "\n",
    "    thresh = cm.max() / 2.\n",
    "    for i, j in itertools.product(range(cm.shape[0]), range(cm.shape[1])):\n",
    "        plt.text(j, i, cm[i, j],\n",
    "                 horizontalalignment=\"center\",\n",
    "                 color=\"white\" if cm[i, j] > thresh else \"black\")\n",
    "    plt.tight_layout()\n",
    "    plt.ylabel('True label')\n",
    "    plt.xlabel('Predicted label')"
   ]
  },
  {
   "cell_type": "code",
   "execution_count": 54,
   "metadata": {},
   "outputs": [],
   "source": [
    "#deep learning libraries\n",
    "from keras.models import Sequential\n",
    "from keras.layers import Dense,Dropout,Activation,Flatten\n",
    "from keras.layers import Convolution2D,MaxPooling2D\n",
    "from keras.optimizers import Adam\n",
    "import sklearn\n",
    "from sklearn import metrics\n",
    "from sklearn.metrics import classification_report,confusion_matrix"
   ]
  },
  {
   "cell_type": "code",
   "execution_count": 55,
   "metadata": {},
   "outputs": [],
   "source": [
    "#****EDIT THIS FOR TRYING DIFFERENT MODELS****#\n",
    "\n",
    "#deep learning model\n",
    "#a = x_train\n",
    "#b = y_trainHot\n",
    "#c = x_test\n",
    "#d = y_testHot\n",
    "#e = number of epochs\n",
    "def runCNNmodel(a,b,c,d,e):\n",
    "    batch=32\n",
    "    num_labels=9\n",
    "    filter_size=2 #what is filter size?\n",
    "    #intialize model\n",
    "    model=Sequential()\n",
    "    \n",
    "    #visible layers\n",
    "    model.add(Dense(256,input_shape=(40,)))\n",
    "    model.add(Activation('relu'))\n",
    "    model.add(Dropout(0.5))\n",
    "    #hidden layers\n",
    "    model.add(Dense(256))\n",
    "    model.add(Activation('relu'))\n",
    "    model.add(Dropout(0.5))\n",
    "    #8 output nodes\n",
    "    model.add(Dense(num_labels))\n",
    "    model.add(Activation('softmax'))\n",
    "    \n",
    "    #compile the model\n",
    "    model.compile(loss='categorical_crossentropy',metrics=['accuracy'],optimizer='adam')\n",
    "\n",
    "    #train the model\n",
    "    model.fit(a,b,batch_size=batch,epochs=e,validation_data=(c,d),callbacks=[MetricsCheckpoint('logs')])\n",
    "    \n",
    "    #compute predictions for confusion matrix\n",
    "    Y_pred = model.predict(c)\n",
    "    print('\\n', sklearn.metrics.classification_report(np.where(d > 0)[1], np.argmax(Y_pred, axis=1),target_names=list(dict_characters.values())), sep='')\n",
    "    Y_pred_classes = np.argmax(Y_pred,axis = 1)\n",
    "    Y_true = np.argmax(d,axis = 1)\n",
    "    confusion_mtx = confusion_matrix(Y_true, Y_pred_classes)\n",
    "    \n",
    "    #plot confusion matrix\n",
    "    plot_confusion_matrix(cm=confusion_mtx,classes=list(dict_characters.values()))"
   ]
  },
  {
   "cell_type": "code",
   "execution_count": 57,
   "metadata": {},
   "outputs": [
    {
     "name": "stdout",
     "output_type": "stream",
     "text": [
      "Train on 5597 samples, validate on 2400 samples\n",
      "Epoch 1/10\n",
      "5597/5597 [==============================] - 1s 176us/step - loss: 8.2982 - acc: 0.3547 - val_loss: 3.2483 - val_acc: 0.3883\n",
      "Epoch 2/10\n",
      "5597/5597 [==============================] - 1s 135us/step - loss: 2.9094 - acc: 0.3057 - val_loss: 1.9975 - val_acc: 0.4350\n",
      "Epoch 3/10\n",
      "5597/5597 [==============================] - 1s 138us/step - loss: 2.0014 - acc: 0.3950 - val_loss: 1.8573 - val_acc: 0.4350\n",
      "Epoch 4/10\n",
      "5597/5597 [==============================] - 1s 143us/step - loss: 1.8745 - acc: 0.4240 - val_loss: 1.7818 - val_acc: 0.4383\n",
      "Epoch 5/10\n",
      "5597/5597 [==============================] - 1s 137us/step - loss: 1.7990 - acc: 0.4349 - val_loss: 1.7351 - val_acc: 0.4425\n",
      "Epoch 6/10\n",
      "5597/5597 [==============================] - 1s 140us/step - loss: 1.7800 - acc: 0.4352 - val_loss: 1.6992 - val_acc: 0.4421\n",
      "Epoch 7/10\n",
      "5597/5597 [==============================] - 1s 134us/step - loss: 1.7542 - acc: 0.4359 - val_loss: 1.6893 - val_acc: 0.4421\n",
      "Epoch 8/10\n",
      "5597/5597 [==============================] - 1s 140us/step - loss: 1.7322 - acc: 0.4397 - val_loss: 1.6877 - val_acc: 0.4412\n",
      "Epoch 9/10\n",
      "5597/5597 [==============================] - 1s 145us/step - loss: 1.7160 - acc: 0.4415 - val_loss: 1.6633 - val_acc: 0.4412\n",
      "Epoch 10/10\n",
      "5597/5597 [==============================] - 1s 141us/step - loss: 1.7006 - acc: 0.4454 - val_loss: 1.6478 - val_acc: 0.4421\n",
      "\n",
      "               precision    recall  f1-score   support\n",
      "\n",
      "      Hip-Hop       0.00      0.00      0.00       186\n",
      "          Pop       0.00      0.00      0.00       150\n",
      "         Folk       0.00      0.00      0.00       185\n",
      "         Rock       0.00      0.00      0.00       163\n",
      " Experimental       0.67      0.02      0.04       197\n",
      "International       0.65      0.09      0.16       221\n",
      " Instrumental       0.00      0.00      0.00        75\n",
      "   Electronic       0.00      0.00      0.00       177\n",
      "        Other       0.44      0.99      0.61      1046\n",
      "\n",
      "  avg / total       0.31      0.44      0.28      2400\n",
      "\n"
     ]
    },
    {
     "name": "stderr",
     "output_type": "stream",
     "text": [
      "/home/cc/.local/lib/python3.5/site-packages/sklearn/metrics/classification.py:1135: UndefinedMetricWarning: Precision and F-score are ill-defined and being set to 0.0 in labels with no predicted samples.\n",
      "  'precision', 'predicted', average, warn_for)\n"
     ]
    },
    {
     "data": {
      "image/png": "[encoded data removed]",
      "text/plain": [
       "<Figure size 360x360 with 2 Axes>"
      ]
     },
     "metadata": {},
     "output_type": "display_data"
    },
    {
     "data": {
      "image/png": "[encoded data removed]",
      "text/plain": [
       "<Figure size 720x360 with 1 Axes>"
      ]
     },
     "metadata": {},
     "output_type": "display_data"
    }
   ],
   "source": [
    "#run the model\n",
    "runCNNmodel(x_train,y_trainHot,x_test,y_testHot,10)\n",
    "#plot learning curves across epochs\n",
    "plotKerasLearningCurve()"
   ]
  }
 ],
 "metadata": {
  "kernelspec": {
   "display_name": "Python 3",
   "language": "python",
   "name": "python3"
  },
  "language_info": {
   "codemirror_mode": {
    "name": "ipython",
    "version": 3
   },
   "file_extension": ".py",
   "mimetype": "text/x-python",
   "name": "python",
   "nbconvert_exporter": "python",
   "pygments_lexer": "ipython3",
   "version": "3.5.2"
  }
 },
 "nbformat": 4,
 "nbformat_minor": 2
}
