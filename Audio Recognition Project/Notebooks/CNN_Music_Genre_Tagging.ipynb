{
 "cells": [
  {
   "cell_type": "code",
   "execution_count": 1,
   "metadata": {},
   "outputs": [
    {
     "name": "stderr",
     "output_type": "stream",
     "text": [
      "/home/cc/.local/lib/python3.5/site-packages/h5py/__init__.py:36: FutureWarning: Conversion of the second argument of issubdtype from `float` to `np.floating` is deprecated. In future, it will be treated as `np.float64 == np.dtype(float).type`.\n",
      "  from ._conv import register_converters as _register_converters\n",
      "Using TensorFlow backend.\n"
     ]
    }
   ],
   "source": [
    "import os\n",
    "import keras\n",
    "import librosa\n",
    "import numpy as np"
   ]
  },
  {
   "cell_type": "code",
   "execution_count": 2,
   "metadata": {},
   "outputs": [],
   "source": [
    "#load the variables\n",
    "x_train=np.load('x_train3D30.npy')\n",
    "x_test=np.load('x_test3D30.npy')\n",
    "y_trainHot=np.load('y_trainHot3D30.npy')\n",
    "y_testHot=np.load('y_testHot3D30.npy')"
   ]
  },
  {
   "cell_type": "code",
   "execution_count": 51,
   "metadata": {},
   "outputs": [],
   "source": [
    "# Quick fix. I am adding virtual axes to the training and test 'x' distributions to make it 4D. \n",
    "# This is an easy hack to convert from one dimension to another.\n",
    "# Please find below a complete example of MFCC data trained using a CNN."
   ]
  },
  {
   "cell_type": "code",
   "execution_count": 3,
   "metadata": {},
   "outputs": [],
   "source": [
    "xtr = x_train[:,:,:, np.newaxis]\n",
    "xte = x_test[:,:,:, np.newaxis]"
   ]
  },
  {
   "cell_type": "code",
   "execution_count": 4,
   "metadata": {},
   "outputs": [
    {
     "data": {
      "text/plain": [
       "(5586, 80, 2500, 1)"
      ]
     },
     "execution_count": 4,
     "metadata": {},
     "output_type": "execute_result"
    }
   ],
   "source": [
    "xtr.shape"
   ]
  },
  {
   "cell_type": "code",
   "execution_count": 5,
   "metadata": {},
   "outputs": [],
   "source": [
    "from keras import backend as K\n",
    "from keras.layers import Input, Dense\n",
    "from keras.models import Model\n",
    "from keras.layers import Dense, Dropout, Flatten\n",
    "from keras.layers.convolutional import Convolution2D\n",
    "from keras.layers.convolutional import MaxPooling2D, ZeroPadding2D\n",
    "from keras.layers.normalization import BatchNormalization\n",
    "from keras.layers.advanced_activations import ELU\n",
    "from keras.utils.data_utils import get_file\n",
    "from keras.layers import Input, Dense\n",
    "from keras.optimizers import Adam\n",
    "\n",
    "\n",
    "def MusicTaggerCNN(input_tensor=None, num_class=8):\n",
    "    \n",
    "    # Determine proper input shape\n",
    "    if K.image_dim_ordering() == 'th':\n",
    "        input_shape = (1, 80, 2500)\n",
    "    else:\n",
    "        input_shape = (80, 2500, 1)\n",
    "\n",
    "    if input_tensor is None:\n",
    "        melgram_input = Input(shape=input_shape)\n",
    "    else:\n",
    "        if not K.is_keras_tensor(input_tensor):\n",
    "            melgram_input = Input(tensor=input_tensor, shape=input_shape)\n",
    "        else:\n",
    "            melgram_input = input_tensor\n",
    "\n",
    "    # Determine input axis\n",
    "    if K.image_dim_ordering() == 'th':\n",
    "        channel_axis = 1\n",
    "        freq_axis = 2\n",
    "        time_axis = 3\n",
    "    else:\n",
    "        channel_axis = 3\n",
    "        freq_axis = 1\n",
    "        time_axis = 2\n",
    "\n",
    "    # Input block\n",
    "    x = BatchNormalization(axis=freq_axis, name='bn_0_freq')(melgram_input)\n",
    "\n",
    "    # Conv block 1\n",
    "    x = Convolution2D(64, (3, 3), padding='same', name='conv1')(x)\n",
    "    x = BatchNormalization(axis=channel_axis, name='bn1')(x)\n",
    "    x = ELU()(x)\n",
    "    x = MaxPooling2D(pool_size=(2, 4), name='pool1')(x)\n",
    "\n",
    "    # Conv block 2\n",
    "    x = Convolution2D(128, (3, 3), padding='same', name='conv2')(x)\n",
    "    x = BatchNormalization(axis=channel_axis, name='bn2')(x)\n",
    "    x = ELU()(x)\n",
    "    x = MaxPooling2D(pool_size=(2, 4), name='pool2')(x)\n",
    "\n",
    "    # Conv block 3\n",
    "    x = Convolution2D(128, (3, 3), padding='same', name='conv3')(x)\n",
    "    x = BatchNormalization(axis=channel_axis, name='bn3')(x)\n",
    "    x = ELU()(x)\n",
    "    x = MaxPooling2D(pool_size=(2, 4), name='pool3')(x)\n",
    "\n",
    "    # Conv block 4\n",
    "    x = Convolution2D(128, (3, 3), padding='same', name='conv4')(x)\n",
    "    x = BatchNormalization(axis=channel_axis, name='bn4')(x)\n",
    "    x = ELU()(x)\n",
    "    x = MaxPooling2D(pool_size=(3, 5), name='pool4')(x)\n",
    "\n",
    "    # Conv block 5\n",
    "    x = Convolution2D(64, (3, 3), padding='same', name='conv5')(x)\n",
    "    x = BatchNormalization(axis=channel_axis, name='bn5')(x)\n",
    "    x = ELU()(x)\n",
    "    #x = MaxPooling2D(pool_size=(4, 4), name='pool5')(x)\n",
    "\n",
    "    # Output\n",
    "    x = Flatten()(x)\n",
    "    x = Dense(num_class, activation='softmax', name='output')(x)\n",
    "\n",
    "    # Create model\n",
    "    model = Model(melgram_input, x)\n",
    "    return model"
   ]
  },
  {
   "cell_type": "code",
   "execution_count": 6,
   "metadata": {},
   "outputs": [],
   "source": [
    "model = MusicTaggerCNN(num_class=8)"
   ]
  },
  {
   "cell_type": "code",
   "execution_count": 8,
   "metadata": {},
   "outputs": [
    {
     "name": "stdout",
     "output_type": "stream",
     "text": [
      "_________________________________________________________________\n",
      "Layer (type)                 Output Shape              Param #   \n",
      "=================================================================\n",
      "input_1 (InputLayer)         (None, 80, 2500, 1)       0         \n",
      "_________________________________________________________________\n",
      "bn_0_freq (BatchNormalizatio (None, 80, 2500, 1)       320       \n",
      "_________________________________________________________________\n",
      "conv1 (Conv2D)               (None, 80, 2500, 64)      640       \n",
      "_________________________________________________________________\n",
      "bn1 (BatchNormalization)     (None, 80, 2500, 64)      256       \n",
      "_________________________________________________________________\n",
      "elu_1 (ELU)                  (None, 80, 2500, 64)      0         \n",
      "_________________________________________________________________\n",
      "pool1 (MaxPooling2D)         (None, 40, 625, 64)       0         \n",
      "_________________________________________________________________\n",
      "conv2 (Conv2D)               (None, 40, 625, 128)      73856     \n",
      "_________________________________________________________________\n",
      "bn2 (BatchNormalization)     (None, 40, 625, 128)      512       \n",
      "_________________________________________________________________\n",
      "elu_2 (ELU)                  (None, 40, 625, 128)      0         \n",
      "_________________________________________________________________\n",
      "pool2 (MaxPooling2D)         (None, 20, 156, 128)      0         \n",
      "_________________________________________________________________\n",
      "conv3 (Conv2D)               (None, 20, 156, 128)      147584    \n",
      "_________________________________________________________________\n",
      "bn3 (BatchNormalization)     (None, 20, 156, 128)      512       \n",
      "_________________________________________________________________\n",
      "elu_3 (ELU)                  (None, 20, 156, 128)      0         \n",
      "_________________________________________________________________\n",
      "pool3 (MaxPooling2D)         (None, 10, 39, 128)       0         \n",
      "_________________________________________________________________\n",
      "conv4 (Conv2D)               (None, 10, 39, 128)       147584    \n",
      "_________________________________________________________________\n",
      "bn4 (BatchNormalization)     (None, 10, 39, 128)       512       \n",
      "_________________________________________________________________\n",
      "elu_4 (ELU)                  (None, 10, 39, 128)       0         \n",
      "_________________________________________________________________\n",
      "pool4 (MaxPooling2D)         (None, 3, 7, 128)         0         \n",
      "_________________________________________________________________\n",
      "conv5 (Conv2D)               (None, 3, 7, 64)          73792     \n",
      "_________________________________________________________________\n",
      "bn5 (BatchNormalization)     (None, 3, 7, 64)          256       \n",
      "_________________________________________________________________\n",
      "elu_5 (ELU)                  (None, 3, 7, 64)          0         \n",
      "_________________________________________________________________\n",
      "flatten_1 (Flatten)          (None, 1344)              0         \n",
      "_________________________________________________________________\n",
      "output (Dense)               (None, 8)                 10760     \n",
      "=================================================================\n",
      "Total params: 456,584\n",
      "Trainable params: 455,400\n",
      "Non-trainable params: 1,184\n",
      "_________________________________________________________________\n"
     ]
    }
   ],
   "source": [
    "model.summary()"
   ]
  },
  {
   "cell_type": "code",
   "execution_count": 9,
   "metadata": {},
   "outputs": [],
   "source": [
    "model.compile(loss='categorical_crossentropy', metrics=['accuracy'], optimizer=Adam(lr=0.01))"
   ]
  },
  {
   "cell_type": "code",
   "execution_count": 10,
   "metadata": {},
   "outputs": [
    {
     "name": "stdout",
     "output_type": "stream",
     "text": [
      "Epoch 1/5\n",
      "5586/5586 [==============================] - 3135s 561ms/step - loss: 2.2477 - acc: 0.2789\n",
      "Epoch 2/5\n",
      "5586/5586 [==============================] - 2473s 443ms/step - loss: 1.7250 - acc: 0.3815\n",
      "Epoch 3/5\n",
      "5586/5586 [==============================] - 2823s 505ms/step - loss: 1.6150 - acc: 0.4230\n",
      "Epoch 4/5\n",
      "5586/5586 [==============================] - 2230s 399ms/step - loss: 1.5322 - acc: 0.4642\n",
      "Epoch 5/5\n",
      "5586/5586 [==============================] - 2074s 371ms/step - loss: 1.4381 - acc: 0.4980\n"
     ]
    },
    {
     "data": {
      "text/plain": [
       "<keras.callbacks.History at 0x7f3b105d2208>"
      ]
     },
     "execution_count": 10,
     "metadata": {},
     "output_type": "execute_result"
    }
   ],
   "source": [
    "model.fit(xtr, y_trainHot, epochs=5, batch_size=100)"
   ]
  },
  {
   "cell_type": "code",
   "execution_count": 11,
   "metadata": {},
   "outputs": [],
   "source": [
    "#describe genres by label number\n",
    "dict_characters={0: 'Hip-Hop',1: 'Pop',2: 'Folk',3: 'Rock',4: 'Experimental',5: 'International',6: 'Instrumental',7: 'Electronic'}"
   ]
  },
  {
   "cell_type": "code",
   "execution_count": 12,
   "metadata": {},
   "outputs": [],
   "source": [
    "#Confuson Matrix function\n",
    "import matplotlib.pylab as plt\n",
    "import itertools\n",
    "import sklearn\n",
    "from sklearn import metrics\n",
    "from sklearn.metrics import classification_report,confusion_matrix\n",
    "def plot_confusion_matrix(cm, classes,normalize=False,title='Confusion matrix',cmap=plt.cm.Blues):\n",
    "    \"\"\"\n",
    "    This function prints and plots the confusion matrix.\n",
    "    Normalization can be applied by setting `normalize=True`.\n",
    "    \"\"\"\n",
    "    plt.figure(figsize = (5,5))\n",
    "    plt.imshow(cm, interpolation='nearest', cmap=cmap)\n",
    "    plt.title(title)\n",
    "    plt.colorbar()\n",
    "    tick_marks = np.arange(len(classes))\n",
    "    plt.xticks(tick_marks, classes, rotation=90)\n",
    "    plt.yticks(tick_marks, classes)\n",
    "    if normalize:\n",
    "        cm = cm.astype('float') / cm.sum(axis=1)[:, np.newaxis]\n",
    "\n",
    "    thresh = cm.max() / 2.\n",
    "    for i, j in itertools.product(range(cm.shape[0]), range(cm.shape[1])):\n",
    "        plt.text(j, i, cm[i, j],\n",
    "                 horizontalalignment=\"center\",\n",
    "                 color=\"white\" if cm[i, j] > thresh else \"black\")\n",
    "    plt.tight_layout()\n",
    "    plt.ylabel('True label')\n",
    "    plt.xlabel('Predicted label')"
   ]
  },
  {
   "cell_type": "code",
   "execution_count": 13,
   "metadata": {},
   "outputs": [
    {
     "name": "stdout",
     "output_type": "stream",
     "text": [
      "\n",
      "               precision    recall  f1-score   support\n",
      "\n",
      "      Hip-Hop       0.40      0.83      0.54       301\n",
      "          Pop       0.00      0.00      0.00       310\n",
      "         Folk       0.20      0.29      0.24       292\n",
      "         Rock       0.12      0.01      0.01       288\n",
      " Experimental       0.00      0.00      0.00       340\n",
      "International       0.89      0.09      0.16       284\n",
      " Instrumental       0.21      0.89      0.34       300\n",
      "   Electronic       0.25      0.01      0.01       279\n",
      "\n",
      "  avg / total       0.25      0.26      0.16      2394\n",
      "\n"
     ]
    },
    {
     "data": {
      "image/png": "[encoded data removed]",
      "text/plain": [
       "<Figure size 360x360 with 2 Axes>"
      ]
     },
     "metadata": {},
     "output_type": "display_data"
    }
   ],
   "source": [
    "#compute predictions for confusion matrix\n",
    "Y_pred = model.predict(xte)\n",
    "print('\\n', sklearn.metrics.classification_report(np.where(y_testHot > 0)[1], np.argmax(Y_pred, axis=1),target_names=list(dict_characters.values())), sep='')\n",
    "Y_pred_classes = np.argmax(Y_pred,axis = 1)\n",
    "Y_true = np.argmax(y_testHot,axis = 1)\n",
    "confusion_mtx = confusion_matrix(Y_true, Y_pred_classes)\n",
    "    \n",
    "#plot confusion matrix\n",
    "plot_confusion_matrix(cm=confusion_mtx,classes=list(dict_characters.values()))"
   ]
  }
 ],
 "metadata": {
  "kernelspec": {
   "display_name": "Python 3",
   "language": "python",
   "name": "python3"
  },
  "language_info": {
   "codemirror_mode": {
    "name": "ipython",
    "version": 3
   },
   "file_extension": ".py",
   "mimetype": "text/x-python",
   "name": "python",
   "nbconvert_exporter": "python",
   "pygments_lexer": "ipython3",
   "version": "3.5.2"
  }
 },
 "nbformat": 4,
 "nbformat_minor": 2
}
