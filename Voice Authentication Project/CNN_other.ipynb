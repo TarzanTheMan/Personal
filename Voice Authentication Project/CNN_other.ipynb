{
 "cells": [
  {
   "cell_type": "markdown",
   "metadata": {},
   "source": [
    "This notebook performs the Convolutional Neural Network for 'other' data.\n",
    "\n",
    "Parameters:\n",
    "\n",
    "4,8 mfcc coefficients\n",
    "\n",
    "2048 samples per window width\n",
    "\n",
    "512 samples per overlap"
   ]
  },
  {
   "cell_type": "code",
   "execution_count": 1,
   "metadata": {},
   "outputs": [
    {
     "name": "stderr",
     "output_type": "stream",
     "text": [
      "Using TensorFlow backend.\n"
     ]
    }
   ],
   "source": [
    "#Helper Function\n",
    "from keras.callbacks import Callback, EarlyStopping, ReduceLROnPlateau, ModelCheckpoint\n",
    "import matplotlib.pylab as plt\n",
    "\n",
    "#save all previous epochs for use in plotting learning curve\n",
    "class MetricsCheckpoint(Callback):\n",
    "    \"\"\"Callback that saves metrics after each epoch\"\"\"\n",
    "    def __init__(self, savepath):\n",
    "        super(MetricsCheckpoint, self).__init__()\n",
    "        self.savepath = savepath\n",
    "        self.history = {}\n",
    "    def on_epoch_end(self, epoch, logs=None):\n",
    "        for k, v in logs.items():\n",
    "            self.history.setdefault(k, []).append(v)\n",
    "        np.save(self.savepath, self.history)"
   ]
  },
  {
   "cell_type": "code",
   "execution_count": 2,
   "metadata": {},
   "outputs": [],
   "source": [
    "#import necessary libraries\n",
    "import numpy as np\n",
    "import matplotlib.pyplot as plt\n",
    "\n",
    "#deep learning libraries\n",
    "from keras.models import Sequential\n",
    "from keras.layers import Dense,Dropout,Activation,Flatten,Conv2D,MaxPool2D,BatchNormalization\n",
    "from keras.optimizers import Adam\n",
    "import sklearn\n",
    "from sklearn import metrics"
   ]
  },
  {
   "cell_type": "markdown",
   "metadata": {},
   "source": [
    "### this is where the magic happens"
   ]
  },
  {
   "cell_type": "markdown",
   "metadata": {},
   "source": [
    "### 4 MFCCs"
   ]
  },
  {
   "cell_type": "code",
   "execution_count": 3,
   "metadata": {},
   "outputs": [],
   "source": [
    "#load the variables\n",
    "x_train=np.load('other_base_x_train.npy')\n",
    "x_test=np.load('other_base_x_test.npy')\n",
    "y_trainHot=np.load('other_base_y_train.npy')\n",
    "y_testHot=np.load('other_base_y_test.npy')\n",
    "class_weight=np.load('weights_other.npy')"
   ]
  },
  {
   "cell_type": "code",
   "execution_count": 4,
   "metadata": {},
   "outputs": [],
   "source": [
    "#deep learning model\n",
    "\n",
    "#a = x_train\n",
    "#b = y_trainHot\n",
    "#c = x_test\n",
    "#d = y_testHot\n",
    "def runCNNmodel(a,b,c,d):\n",
    "    #batch=32\n",
    "    #epochs=50\n",
    "    num_labels=142\n",
    "    one, two, three = x_train.shape[1], x_train.shape[2], x_train.shape[3]\n",
    "    input_shape = (one, two, three)\n",
    "    #intialize model\n",
    "    model=Sequential()\n",
    "    \n",
    "    #visible layers\n",
    "    model.add(Conv2D(filters=32, kernel_size=(1,1), activation='relu',input_shape=input_shape))\n",
    "    model.add(MaxPool2D(pool_size=(1,1)))\n",
    "    model.add(BatchNormalization())\n",
    "    model.add(Dropout(0.15))\n",
    "    \n",
    "    #output nodes\n",
    "    model.add(Flatten())\n",
    "    model.add(Dense(256, activation='relu')) #hidden layers\n",
    "    model.add(Dropout(0.15))\n",
    "    model.add(Dense(num_labels, activation='softmax'))\n",
    "    \n",
    "    return model"
   ]
  },
  {
   "cell_type": "code",
   "execution_count": 5,
   "metadata": {},
   "outputs": [],
   "source": [
    "#run the model\n",
    "model=runCNNmodel(x_train,y_trainHot,x_test,y_testHot)"
   ]
  },
  {
   "cell_type": "code",
   "execution_count": 6,
   "metadata": {},
   "outputs": [
    {
     "name": "stdout",
     "output_type": "stream",
     "text": [
      "_________________________________________________________________\n",
      "Layer (type)                 Output Shape              Param #   \n",
      "=================================================================\n",
      "conv2d_1 (Conv2D)            (None, 1, 4, 32)          18784     \n",
      "_________________________________________________________________\n",
      "max_pooling2d_1 (MaxPooling2 (None, 1, 4, 32)          0         \n",
      "_________________________________________________________________\n",
      "batch_normalization_1 (Batch (None, 1, 4, 32)          128       \n",
      "_________________________________________________________________\n",
      "dropout_1 (Dropout)          (None, 1, 4, 32)          0         \n",
      "_________________________________________________________________\n",
      "flatten_1 (Flatten)          (None, 128)               0         \n",
      "_________________________________________________________________\n",
      "dense_1 (Dense)              (None, 256)               33024     \n",
      "_________________________________________________________________\n",
      "dropout_2 (Dropout)          (None, 256)               0         \n",
      "_________________________________________________________________\n",
      "dense_2 (Dense)              (None, 142)               36494     \n",
      "=================================================================\n",
      "Total params: 88,430\n",
      "Trainable params: 88,366\n",
      "Non-trainable params: 64\n",
      "_________________________________________________________________\n"
     ]
    }
   ],
   "source": [
    "#generate the breakdown of trainable parameters each step in the process\n",
    "model.summary()"
   ]
  },
  {
   "cell_type": "code",
   "execution_count": 7,
   "metadata": {},
   "outputs": [
    {
     "name": "stdout",
     "output_type": "stream",
     "text": [
      "Train on 11891 samples, validate on 3716 samples\n",
      "Epoch 1/5\n",
      "11891/11891 [==============================] - 3s 286us/step - loss: 4.3804 - acc: 0.0698 - val_loss: 3.5419 - val_acc: 0.1609\n",
      "Epoch 2/5\n",
      "11891/11891 [==============================] - 3s 257us/step - loss: 3.2917 - acc: 0.1828 - val_loss: 2.8513 - val_acc: 0.2796\n",
      "Epoch 3/5\n",
      "11891/11891 [==============================] - 3s 237us/step - loss: 2.8575 - acc: 0.2595 - val_loss: 2.4417 - val_acc: 0.3625\n",
      "Epoch 4/5\n",
      "11891/11891 [==============================] - 3s 242us/step - loss: 2.5616 - acc: 0.3149 - val_loss: 2.2356 - val_acc: 0.4128\n",
      "Epoch 5/5\n",
      "11891/11891 [==============================] - 3s 246us/step - loss: 2.3708 - acc: 0.3531 - val_loss: 2.1279 - val_acc: 0.4373\n"
     ]
    }
   ],
   "source": [
    "#compile the model\n",
    "model.compile(loss='categorical_crossentropy',metrics=['accuracy'],optimizer='adam')\n",
    "\n",
    "#train the model\n",
    "history=model.fit(x_train,y_trainHot,batch_size=32,epochs=5,validation_data=(x_test,y_testHot),callbacks=[MetricsCheckpoint('logs4D')], class_weight=class_weight)"
   ]
  },
  {
   "cell_type": "code",
   "execution_count": 8,
   "metadata": {},
   "outputs": [
    {
     "data": {
      "image/png": "[encoded data removed]",
      "text/plain": [
       "<Figure size 720x360 with 1 Axes>"
      ]
     },
     "metadata": {},
     "output_type": "display_data"
    }
   ],
   "source": [
    "#plot the learning and loss curves together\n",
    "plt.figure(figsize=(10,5))\n",
    "plt.plot(history.history['acc'], color='red')\n",
    "plt.plot(history.history['val_acc'], color='blue')\n",
    "plt.plot(history.history['loss'], color='green')\n",
    "plt.plot(history.history['val_loss'], color='orange')\n",
    "plt.title('Learning and Loss Curves')\n",
    "plt.ylim((0,4))\n",
    "plt.xlabel('Number of epochs')\n",
    "plt.ylabel('Accuracy & Loss')\n",
    "plt.legend(['train acc','val acc','train loss','val loss'], loc='upper right')\n",
    "plt.grid()\n",
    "plt.show()"
   ]
  },
  {
   "cell_type": "code",
   "execution_count": 9,
   "metadata": {},
   "outputs": [
    {
     "name": "stdout",
     "output_type": "stream",
     "text": [
      "2973/2973 [==============================] - 0s 72us/step\n"
     ]
    },
    {
     "data": {
      "text/plain": [
       "[2.103224111012325, 0.42314160775845594]"
      ]
     },
     "execution_count": 9,
     "metadata": {},
     "output_type": "execute_result"
    }
   ],
   "source": [
    "#load the validation data\n",
    "x_val=np.load('other_base_x_val.npy')\n",
    "y_valHot=np.load('other_base_y_val.npy')\n",
    "#evaluate on outside data\n",
    "model.evaluate(x=x_val, y=y_valHot, batch_size=32)"
   ]
  },
  {
   "cell_type": "markdown",
   "metadata": {},
   "source": [
    "### 8 MFCCs"
   ]
  },
  {
   "cell_type": "code",
   "execution_count": 18,
   "metadata": {},
   "outputs": [],
   "source": [
    "#load the variables\n",
    "x_train=np.load('other8_base_x_train.npy')\n",
    "x_test=np.load('other8_base_x_test.npy')\n",
    "y_trainHot=np.load('other8_base_y_train.npy')\n",
    "y_testHot=np.load('other8_base_y_test.npy')\n",
    "class_weight=np.load('weights_other.npy')"
   ]
  },
  {
   "cell_type": "code",
   "execution_count": 19,
   "metadata": {},
   "outputs": [],
   "source": [
    "#deep learning model\n",
    "\n",
    "#a = x_train\n",
    "#b = y_trainHot\n",
    "#c = x_test\n",
    "#d = y_testHot\n",
    "def runCNNmodel(a,b,c,d):\n",
    "    #batch=32\n",
    "    #epochs=50\n",
    "    num_labels=142\n",
    "    one, two, three = x_train.shape[1], x_train.shape[2], x_train.shape[3]\n",
    "    input_shape = (one, two, three)\n",
    "    #intialize model\n",
    "    model=Sequential()\n",
    "    \n",
    "    #visible layers\n",
    "    model.add(Conv2D(filters=32, kernel_size=(1,1), activation='relu',input_shape=input_shape))\n",
    "    model.add(MaxPool2D(pool_size=(1,1)))\n",
    "    model.add(BatchNormalization())\n",
    "    model.add(Dropout(0.15)) \n",
    "\n",
    "\n",
    "    #output nodes\n",
    "    model.add(Flatten())\n",
    "    model.add(Dense(256, activation='relu')) #hidden layers\n",
    "    model.add(Dropout(0.15))\n",
    "    model.add(Dense(num_labels, activation='softmax'))\n",
    "    \n",
    "    return model"
   ]
  },
  {
   "cell_type": "code",
   "execution_count": 20,
   "metadata": {},
   "outputs": [],
   "source": [
    "#run the model\n",
    "model=runCNNmodel(x_train,y_trainHot,x_test,y_testHot)"
   ]
  },
  {
   "cell_type": "code",
   "execution_count": 21,
   "metadata": {},
   "outputs": [
    {
     "name": "stdout",
     "output_type": "stream",
     "text": [
      "_________________________________________________________________\n",
      "Layer (type)                 Output Shape              Param #   \n",
      "=================================================================\n",
      "conv2d_3 (Conv2D)            (None, 1, 4, 32)          18784     \n",
      "_________________________________________________________________\n",
      "max_pooling2d_3 (MaxPooling2 (None, 1, 4, 32)          0         \n",
      "_________________________________________________________________\n",
      "batch_normalization_3 (Batch (None, 1, 4, 32)          128       \n",
      "_________________________________________________________________\n",
      "dropout_5 (Dropout)          (None, 1, 4, 32)          0         \n",
      "_________________________________________________________________\n",
      "flatten_3 (Flatten)          (None, 128)               0         \n",
      "_________________________________________________________________\n",
      "dense_5 (Dense)              (None, 256)               33024     \n",
      "_________________________________________________________________\n",
      "dropout_6 (Dropout)          (None, 256)               0         \n",
      "_________________________________________________________________\n",
      "dense_6 (Dense)              (None, 142)               36494     \n",
      "=================================================================\n",
      "Total params: 88,430\n",
      "Trainable params: 88,366\n",
      "Non-trainable params: 64\n",
      "_________________________________________________________________\n"
     ]
    }
   ],
   "source": [
    "#generate the breakdown of trainable parameters each step in the process\n",
    "model.summary()"
   ]
  },
  {
   "cell_type": "code",
   "execution_count": 22,
   "metadata": {},
   "outputs": [
    {
     "name": "stdout",
     "output_type": "stream",
     "text": [
      "Train on 11891 samples, validate on 3716 samples\n",
      "Epoch 1/5\n",
      "11891/11891 [==============================] - 4s 296us/step - loss: 4.2874 - acc: 0.0745 - val_loss: 3.6823 - val_acc: 0.1340\n",
      "Epoch 2/5\n",
      "11891/11891 [==============================] - 3s 273us/step - loss: 3.2222 - acc: 0.1986 - val_loss: 2.7275 - val_acc: 0.3181\n",
      "Epoch 3/5\n",
      "11891/11891 [==============================] - 3s 269us/step - loss: 2.6699 - acc: 0.2978 - val_loss: 2.3031 - val_acc: 0.4031\n",
      "Epoch 4/5\n",
      "11891/11891 [==============================] - 3s 280us/step - loss: 2.4077 - acc: 0.3480 - val_loss: 2.1451 - val_acc: 0.4101\n",
      "Epoch 5/5\n",
      "11891/11891 [==============================] - 3s 248us/step - loss: 2.2583 - acc: 0.3856 - val_loss: 2.0463 - val_acc: 0.4403\n"
     ]
    }
   ],
   "source": [
    "#compile the model\n",
    "model.compile(loss='categorical_crossentropy',metrics=['accuracy'],optimizer='adam')\n",
    "\n",
    "#train the model\n",
    "history2=model.fit(x_train,y_trainHot,batch_size=32,epochs=5,validation_data=(x_test,y_testHot),callbacks=[MetricsCheckpoint('logs4D')], class_weight=class_weight)"
   ]
  },
  {
   "cell_type": "code",
   "execution_count": 23,
   "metadata": {},
   "outputs": [
    {
     "data": {
      "image/png": "[encoded data removed]",
      "text/plain": [
       "<Figure size 720x360 with 1 Axes>"
      ]
     },
     "metadata": {},
     "output_type": "display_data"
    }
   ],
   "source": [
    "#plot the learning and loss curves together\n",
    "plt.figure(figsize=(10,5))\n",
    "plt.plot(history2.history['acc'], color='red')\n",
    "plt.plot(history2.history['val_acc'], color='blue')\n",
    "plt.plot(history2.history['loss'], color='green')\n",
    "plt.plot(history2.history['val_loss'], color='orange')\n",
    "plt.title('Learning and Loss Curves')\n",
    "plt.ylim((0,4))\n",
    "plt.xlabel('Number of epochs')\n",
    "plt.ylabel('Accuracy & Loss')\n",
    "plt.legend(['train acc','val acc','train loss','val loss'], loc='upper right')\n",
    "plt.grid()\n",
    "plt.show()"
   ]
  },
  {
   "cell_type": "code",
   "execution_count": 24,
   "metadata": {},
   "outputs": [
    {
     "name": "stdout",
     "output_type": "stream",
     "text": [
      "2973/2973 [==============================] - 0s 69us/step\n"
     ]
    },
    {
     "data": {
      "text/plain": [
       "[2.0169532210827676, 0.442986881817145]"
      ]
     },
     "execution_count": 24,
     "metadata": {},
     "output_type": "execute_result"
    }
   ],
   "source": [
    "#load the validation data\n",
    "x_val=np.load('other8_base_x_val.npy')\n",
    "y_valHot=np.load('other8_base_y_val.npy')\n",
    "#evaluate on outside data\n",
    "model.evaluate(x=x_val, y=y_valHot, batch_size=32)"
   ]
  },
  {
   "cell_type": "markdown",
   "metadata": {},
   "source": [
    "### 32 MFCCs"
   ]
  },
  {
   "cell_type": "code",
   "execution_count": 25,
   "metadata": {},
   "outputs": [],
   "source": [
    "#load the variables\n",
    "x_train=np.load('other32_base_x_train.npy')\n",
    "x_test=np.load('other32_base_x_test.npy')\n",
    "y_trainHot=np.load('other32_base_y_train.npy')\n",
    "y_testHot=np.load('other32_base_y_test.npy')\n",
    "class_weight=np.load('weights_other.npy')"
   ]
  },
  {
   "cell_type": "code",
   "execution_count": 26,
   "metadata": {},
   "outputs": [],
   "source": [
    "#deep learning model\n",
    "\n",
    "#a = x_train\n",
    "#b = y_trainHot\n",
    "#c = x_test\n",
    "#d = y_testHot\n",
    "def runCNNmodel(a,b,c,d):\n",
    "    #batch=32\n",
    "    #epochs=50\n",
    "    num_labels=142\n",
    "    one, two, three = x_train.shape[1], x_train.shape[2], x_train.shape[3]\n",
    "    input_shape = (one, two, three)\n",
    "    #intialize model\n",
    "    model=Sequential()\n",
    "    \n",
    "    #visible layers\n",
    "    model.add(Conv2D(filters=32, kernel_size=(1,1), activation='relu',input_shape=input_shape))\n",
    "    model.add(MaxPool2D(pool_size=(1,1)))\n",
    "    model.add(BatchNormalization())\n",
    "    model.add(Dropout(0.15)) \n",
    "\n",
    "\n",
    "    #output nodes\n",
    "    model.add(Flatten())\n",
    "    model.add(Dense(256, activation='relu')) #hidden layers\n",
    "    model.add(Dropout(0.15))\n",
    "    model.add(Dense(num_labels, activation='softmax'))\n",
    "    \n",
    "    return model"
   ]
  },
  {
   "cell_type": "code",
   "execution_count": 27,
   "metadata": {},
   "outputs": [],
   "source": [
    "#run the model\n",
    "model=runCNNmodel(x_train,y_trainHot,x_test,y_testHot)"
   ]
  },
  {
   "cell_type": "code",
   "execution_count": 28,
   "metadata": {},
   "outputs": [
    {
     "name": "stdout",
     "output_type": "stream",
     "text": [
      "_________________________________________________________________\n",
      "Layer (type)                 Output Shape              Param #   \n",
      "=================================================================\n",
      "conv2d_4 (Conv2D)            (None, 1, 32, 32)         18784     \n",
      "_________________________________________________________________\n",
      "max_pooling2d_4 (MaxPooling2 (None, 1, 32, 32)         0         \n",
      "_________________________________________________________________\n",
      "batch_normalization_4 (Batch (None, 1, 32, 32)         128       \n",
      "_________________________________________________________________\n",
      "dropout_7 (Dropout)          (None, 1, 32, 32)         0         \n",
      "_________________________________________________________________\n",
      "flatten_4 (Flatten)          (None, 1024)              0         \n",
      "_________________________________________________________________\n",
      "dense_7 (Dense)              (None, 256)               262400    \n",
      "_________________________________________________________________\n",
      "dropout_8 (Dropout)          (None, 256)               0         \n",
      "_________________________________________________________________\n",
      "dense_8 (Dense)              (None, 142)               36494     \n",
      "=================================================================\n",
      "Total params: 317,806\n",
      "Trainable params: 317,742\n",
      "Non-trainable params: 64\n",
      "_________________________________________________________________\n"
     ]
    }
   ],
   "source": [
    "#generate the breakdown of trainable parameters each step in the process\n",
    "model.summary()"
   ]
  },
  {
   "cell_type": "code",
   "execution_count": 29,
   "metadata": {},
   "outputs": [
    {
     "name": "stdout",
     "output_type": "stream",
     "text": [
      "Train on 11891 samples, validate on 3716 samples\n",
      "Epoch 1/5\n",
      "11891/11891 [==============================] - 7s 559us/step - loss: 3.0053 - acc: 0.3483 - val_loss: 0.8166 - val_acc: 0.8450\n",
      "Epoch 2/5\n",
      "11891/11891 [==============================] - 7s 564us/step - loss: 0.4221 - acc: 0.8832 - val_loss: 0.1549 - val_acc: 0.9610\n",
      "Epoch 3/5\n",
      "11891/11891 [==============================] - 7s 588us/step - loss: 0.2006 - acc: 0.9419 - val_loss: 0.0973 - val_acc: 0.9758\n",
      "Epoch 4/5\n",
      "11891/11891 [==============================] - 6s 541us/step - loss: 0.1304 - acc: 0.9615 - val_loss: 0.0760 - val_acc: 0.9771\n",
      "Epoch 5/5\n",
      "11891/11891 [==============================] - 6s 531us/step - loss: 0.0947 - acc: 0.9740 - val_loss: 0.0573 - val_acc: 0.9833\n"
     ]
    }
   ],
   "source": [
    "#compile the model\n",
    "model.compile(loss='categorical_crossentropy',metrics=['accuracy'],optimizer='adam')\n",
    "\n",
    "#train the model\n",
    "history3=model.fit(x_train,y_trainHot,batch_size=32,epochs=5,validation_data=(x_test,y_testHot),callbacks=[MetricsCheckpoint('logs4D')], class_weight=class_weight)"
   ]
  },
  {
   "cell_type": "code",
   "execution_count": 38,
   "metadata": {},
   "outputs": [
    {
     "data": {
      "image/png": "[encoded data removed]",
      "text/plain": [
       "<Figure size 720x360 with 1 Axes>"
      ]
     },
     "metadata": {},
     "output_type": "display_data"
    }
   ],
   "source": [
    "#plot the learning and loss curves together\n",
    "plt.figure(figsize=(10,5))\n",
    "plt.plot(history3.history['acc'], color='red')\n",
    "plt.plot(history3.history['val_acc'], color='blue')\n",
    "plt.plot(history3.history['loss'], color='green')\n",
    "plt.plot(history3.history['val_loss'], color='orange')\n",
    "plt.title('Learning and Loss Curves')\n",
    "plt.ylim((0,1.5))\n",
    "plt.xlabel('Number of epochs')\n",
    "plt.ylabel('Accuracy & Loss')\n",
    "plt.legend(['train acc','val acc','train loss','val loss'], loc='upper right')\n",
    "plt.grid()\n",
    "plt.show()"
   ]
  },
  {
   "cell_type": "code",
   "execution_count": 34,
   "metadata": {},
   "outputs": [
    {
     "name": "stdout",
     "output_type": "stream",
     "text": [
      "2973/2973 [==============================] - 1s 194us/step\n"
     ]
    },
    {
     "data": {
      "text/plain": [
       "[0.073586137749172, 0.9821728891569318]"
      ]
     },
     "execution_count": 34,
     "metadata": {},
     "output_type": "execute_result"
    }
   ],
   "source": [
    "#load the validation data\n",
    "x_val=np.load('other32_base_x_val.npy')\n",
    "y_valHot=np.load('other32_base_y_val.npy')\n",
    "#evaluate on outside data\n",
    "model.evaluate(x=x_val, y=y_valHot, batch_size=32)"
   ]
  },
  {
   "cell_type": "markdown",
   "metadata": {},
   "source": [
    "### compare val accuracy by # of MFCCs"
   ]
  },
  {
   "cell_type": "code",
   "execution_count": 35,
   "metadata": {},
   "outputs": [
    {
     "data": {
      "image/png": "[encoded data removed]",
      "text/plain": [
       "<Figure size 720x360 with 1 Axes>"
      ]
     },
     "metadata": {},
     "output_type": "display_data"
    }
   ],
   "source": [
    "#8 MFCC vs 32 MFCC by validation accuracy\n",
    "plt.figure(figsize=(10,5))\n",
    "plt.plot(history.history['val_acc'], color='purple')\n",
    "plt.plot(history2.history['val_acc'], color='pink')\n",
    "plt.plot(history3.history['val_acc'], color='brown')\n",
    "plt.title('Validation by MFCC')\n",
    "plt.ylim((0,1))\n",
    "plt.xlabel('Number of epochs')\n",
    "plt.ylabel('Accuracy')\n",
    "plt.legend(['4 MFCC','8 MFCC', '32 MFCC'], loc='lower right')\n",
    "plt.grid()\n",
    "plt.show()"
   ]
  }
 ],
 "metadata": {
  "kernelspec": {
   "display_name": "Python 3",
   "language": "python",
   "name": "python3"
  },
  "language_info": {
   "codemirror_mode": {
    "name": "ipython",
    "version": 3
   },
   "file_extension": ".py",
   "mimetype": "text/x-python",
   "name": "python",
   "nbconvert_exporter": "python",
   "pygments_lexer": "ipython3",
   "version": "3.5.2"
  }
 },
 "nbformat": 4,
 "nbformat_minor": 2
}
