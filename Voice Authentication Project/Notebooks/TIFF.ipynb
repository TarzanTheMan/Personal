{
 "cells": [
  {
   "cell_type": "markdown",
   "metadata": {},
   "source": [
    "This notebook is the MFCC to TIFF image conversion.\n",
    "\n",
    "I plan to use this image-constructed data set in a future GAN model.\n",
    "\n",
    "The first loop creates an exact replica of the folder hierarchy for the .flac files.\n",
    "\n",
    "The second loop performs the MFCC extraction, which then displays as a specshow, and then saves as a .tiff file.\n",
    "\n",
    "plt.close('all') is performed to avoid memory bottlenecks."
   ]
  },
  {
   "cell_type": "code",
   "execution_count": 1,
   "metadata": {},
   "outputs": [],
   "source": [
    "#necessary libraries\n",
    "import pandas as pd\n",
    "import numpy as np\n",
    "import librosa\n",
    "import os\n",
    "\n",
    "#special for images\n",
    "import librosa.display\n",
    "import matplotlib.pyplot as plt\n",
    "from pylab import savefig"
   ]
  },
  {
   "cell_type": "markdown",
   "metadata": {},
   "source": [
    "## create the directory for images"
   ]
  },
  {
   "cell_type": "markdown",
   "metadata": {},
   "source": [
    "#where I want to create the subdirectories\n",
    "destination=os.path.abspath(os.path.join(\"./Data/Images/\"))\n",
    "#how to model the subdirectories\n",
    "source=os.path.abspath(os.path.join(\"./Data/train-clean-100/\"))\n",
    "#loop through the different speakers (251 unique)\n",
    "for subfolder in os.listdir(source):\n",
    "    #loop through the different chapters for each speaker\n",
    "    for subfolder2 in os.listdir(os.path.join(source,subfolder)):\n",
    "        #make the directories\n",
    "        os.makedirs(os.path.join(destination,subfolder,subfolder2))"
   ]
  },
  {
   "cell_type": "markdown",
   "metadata": {},
   "source": [
    "## convert to TIFF image format"
   ]
  },
  {
   "cell_type": "code",
   "execution_count": null,
   "metadata": {},
   "outputs": [],
   "source": [
    "#shortcut to librosa packages\n",
    "load=librosa.core.load\n",
    "mfcc=librosa.feature.mfcc\n",
    "dis=librosa.display.specshow\n",
    "\n",
    "#choose how long each speech file will be (pads with zeros if too short-which they all are)\n",
    "#change the integer value if want the length to be shorter\n",
    "sr=12000\n",
    "dur=25\n",
    "n_sample_fit=int(sr*dur)\n",
    "\n",
    "#subfolder dive routine, path = location for speech files; destination = location to save images\n",
    "path=os.path.abspath(os.path.join(\"./Data/train-clean-100/\"))\n",
    "destination=os.path.abspath(os.path.join(\"./Data/Images/\"))\n",
    "\n",
    "for subfolder in os.listdir(path):\n",
    "    for subfolder2 in os.listdir(os.path.join(path,subfolder)):\n",
    "        for filename in os.listdir(os.path.join(path,subfolder,subfolder2)):\n",
    "            if filename.endswith('.flac'):\n",
    "                #load the speech file\n",
    "                speech, sr=load(os.path.join(path,subfolder,subfolder2,filename), res_type='kaiser_best', sr=12000)\n",
    "                #because the number of frames are shorter than 25 seconds x SR\n",
    "                #next two lines pads array with zeros for equivalent dimensionality\n",
    "                n_sample=speech.shape[0]\n",
    "                speech=np.hstack((speech, np.zeros((n_sample_fit - n_sample,))))\n",
    "                #extract mfcc features from data\n",
    "                x=mfcc(y=speech, n_mfcc=32, sr=12000, n_fft=2048, hop_length=512)\n",
    "                #start TIFF generation here\n",
    "                dis(x) #generates specshow plot\n",
    "                new_filename=filename.partition('.')[0]+'.tiff' #converts the .flac filename to .tiff filename\n",
    "                #save the figure from dis(x) as a .tiff file in the appropriate subdirectory\n",
    "                savefig(os.path.join(destination,subfolder,subfolder2,new_filename), bbox_inches='tight', pad_inches=0)\n",
    "                #close plots to avoid memory bottlenecks\n",
    "                plt.close('all')\n",
    "                #print('Success! Filename=%s' % new_filename)\n",
    "            else:\n",
    "                continue"
   ]
  },
  {
   "cell_type": "code",
   "execution_count": null,
   "metadata": {},
   "outputs": [],
   "source": [
    "#the images are about .3MB so it should end up being around 8,562MB ~ 8.5GB\n",
    "os.path.getsize('./Data/Images/103/1240/103-1240-0001.tiff')"
   ]
  }
 ],
 "metadata": {
  "kernelspec": {
   "display_name": "Python 3",
   "language": "python",
   "name": "python3"
  },
  "language_info": {
   "codemirror_mode": {
    "name": "ipython",
    "version": 3
   },
   "file_extension": ".py",
   "mimetype": "text/x-python",
   "name": "python",
   "nbconvert_exporter": "python",
   "pygments_lexer": "ipython3",
   "version": "3.5.2"
  }
 },
 "nbformat": 4,
 "nbformat_minor": 2
}
