{
 "cells": [
  {
   "cell_type": "markdown",
   "metadata": {},
   "source": [
    "This notebook performs mundane tasks such as verifying all filenames are correctly located and capturing duration.\n",
    "\n",
    "Not a critical step in this model building process."
   ]
  },
  {
   "cell_type": "code",
   "execution_count": 1,
   "metadata": {},
   "outputs": [],
   "source": [
    "#necessary libraries\n",
    "import pandas as pd\n",
    "import numpy as np\n",
    "import librosa\n",
    "import os"
   ]
  },
  {
   "cell_type": "code",
   "execution_count": null,
   "metadata": {},
   "outputs": [],
   "source": [
    "#shortcut to librosa packages\n",
    "duration=librosa.core.get_duration\n",
    "#choose how long each speech file will be (pads with zeros if too short)\n",
    "#change the integer value if want the length to be shorter\n",
    "tally=0\n",
    "z=[] #save the times\n",
    "#subfolder dive routine\n",
    "path=os.path.abspath(os.path.join(\"./Data/train-other-500/\"))\n",
    "for subfolder in os.listdir(path):\n",
    "    #print('subfolder:',subfolder)\n",
    "    for subfolder2 in os.listdir(os.path.join(path,subfolder)):\n",
    "        #print('subfolder2:',subfolder2)\n",
    "        for filename in os.listdir(os.path.join(path,subfolder,subfolder2)):\n",
    "            #print('filename:',filename)\n",
    "            if filename.endswith('.flac'):        \n",
    "                time=duration(filename=os.path.join(path,subfolder,subfolder2,filename))\n",
    "                #z.append(time)\n",
    "                #tally=tally+1\n",
    "                #print(tally)\n",
    "                if time > 25:\n",
    "                    print(time)\n",
    "            else:\n",
    "                continue"
   ]
  },
  {
   "cell_type": "code",
   "execution_count": 4,
   "metadata": {},
   "outputs": [
    {
     "data": {
      "text/plain": [
       "28539"
      ]
     },
     "execution_count": 4,
     "metadata": {},
     "output_type": "execute_result"
    }
   ],
   "source": [
    "len(z)"
   ]
  },
  {
   "cell_type": "code",
   "execution_count": 14,
   "metadata": {},
   "outputs": [
    {
     "name": "stdout",
     "output_type": "stream",
     "text": [
      "24.525\n",
      "1\n"
     ]
    }
   ],
   "source": [
    "#check the min and max speech duration\n",
    "count=0\n",
    "for i in range(len(z)):\n",
    "    if z[i]>24:\n",
    "        count=count+1\n",
    "        print(z[i])\n",
    "print(count)"
   ]
  },
  {
   "cell_type": "markdown",
   "metadata": {},
   "source": [
    "np.save('times.npy',z)"
   ]
  }
 ],
 "metadata": {
  "kernelspec": {
   "display_name": "Python 3",
   "language": "python",
   "name": "python3"
  },
  "language_info": {
   "codemirror_mode": {
    "name": "ipython",
    "version": 3
   },
   "file_extension": ".py",
   "mimetype": "text/x-python",
   "name": "python",
   "nbconvert_exporter": "python",
   "pygments_lexer": "ipython3",
   "version": "3.5.2"
  }
 },
 "nbformat": 4,
 "nbformat_minor": 2
}
