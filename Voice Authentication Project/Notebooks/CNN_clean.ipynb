{
 "cells": [
  {
   "cell_type": "markdown",
   "metadata": {},
   "source": [
    "This notebook performs the Convolutional Neural Network for 'clean' data.\n",
    "\n",
    "Parameters:\n",
    "\n",
    "4,8,32 mfcc coefficients\n",
    "\n",
    "2048 samples per window width\n",
    "\n",
    "512 samples per overlap"
   ]
  },
  {
   "cell_type": "code",
   "execution_count": 1,
   "metadata": {},
   "outputs": [
    {
     "name": "stderr",
     "output_type": "stream",
     "text": [
      "Using TensorFlow backend.\n"
     ]
    }
   ],
   "source": [
    "#Helper Function\n",
    "from keras.callbacks import Callback, EarlyStopping, ReduceLROnPlateau, ModelCheckpoint\n",
    "import matplotlib.pylab as plt\n",
    "\n",
    "#save all previous epochs for use in plotting learning curve\n",
    "class MetricsCheckpoint(Callback):\n",
    "    \"\"\"Callback that saves metrics after each epoch\"\"\"\n",
    "    def __init__(self, savepath):\n",
    "        super(MetricsCheckpoint, self).__init__()\n",
    "        self.savepath = savepath\n",
    "        self.history = {}\n",
    "    def on_epoch_end(self, epoch, logs=None):\n",
    "        for k, v in logs.items():\n",
    "            self.history.setdefault(k, []).append(v)\n",
    "        np.save(self.savepath, self.history)"
   ]
  },
  {
   "cell_type": "code",
   "execution_count": 2,
   "metadata": {},
   "outputs": [],
   "source": [
    "#import necessary libraries\n",
    "import numpy as np\n",
    "import matplotlib.pyplot as plt\n",
    "\n",
    "#deep learning libraries\n",
    "from keras.models import Sequential\n",
    "from keras.layers import Dense,Dropout,Activation,Flatten,Conv2D,MaxPool2D,BatchNormalization\n",
    "from keras.optimizers import Adam\n",
    "import sklearn\n",
    "from sklearn import metrics"
   ]
  },
  {
   "cell_type": "markdown",
   "metadata": {},
   "source": [
    "### this is where the magic happens"
   ]
  },
  {
   "cell_type": "markdown",
   "metadata": {},
   "source": [
    "### 4 MFCCs"
   ]
  },
  {
   "cell_type": "code",
   "execution_count": 3,
   "metadata": {},
   "outputs": [],
   "source": [
    "#load the variables\n",
    "x_train=np.load('base4_x_train.npy')\n",
    "x_test=np.load('base4_x_test.npy')\n",
    "y_trainHot=np.load('base4_y_train.npy')\n",
    "y_testHot=np.load('base4_y_test.npy')\n",
    "class_weight=np.load('weights.npy')"
   ]
  },
  {
   "cell_type": "code",
   "execution_count": 4,
   "metadata": {},
   "outputs": [],
   "source": [
    "#deep learning model\n",
    "\n",
    "#a = x_train\n",
    "#b = y_trainHot\n",
    "#c = x_test\n",
    "#d = y_testHot\n",
    "def runCNNmodel(a,b,c,d):\n",
    "    #batch=32\n",
    "    #epochs=50\n",
    "    num_labels=251\n",
    "    one, two, three = x_train.shape[1], x_train.shape[2], x_train.shape[3]\n",
    "    input_shape = (one, two, three)\n",
    "    #intialize model\n",
    "    model=Sequential()\n",
    "    \n",
    "    #visible layers\n",
    "    model.add(Conv2D(filters=32, kernel_size=(1,1), activation='relu',input_shape=input_shape))\n",
    "    model.add(MaxPool2D(pool_size=(1,1)))\n",
    "    model.add(BatchNormalization())\n",
    "    model.add(Dropout(0.15))  \n",
    "   \n",
    "    #output nodes\n",
    "    model.add(Flatten())\n",
    "    model.add(Dense(256, activation='relu')) #hidden layers\n",
    "    model.add(Dropout(0.15))\n",
    "    model.add(Dense(num_labels, activation='softmax'))\n",
    "    \n",
    "    return model"
   ]
  },
  {
   "cell_type": "code",
   "execution_count": 5,
   "metadata": {},
   "outputs": [],
   "source": [
    "#run the model\n",
    "model=runCNNmodel(x_train,y_trainHot,x_test,y_testHot)"
   ]
  },
  {
   "cell_type": "code",
   "execution_count": 6,
   "metadata": {},
   "outputs": [
    {
     "name": "stdout",
     "output_type": "stream",
     "text": [
      "_________________________________________________________________\n",
      "Layer (type)                 Output Shape              Param #   \n",
      "=================================================================\n",
      "conv2d_1 (Conv2D)            (None, 1, 4, 32)          18784     \n",
      "_________________________________________________________________\n",
      "max_pooling2d_1 (MaxPooling2 (None, 1, 4, 32)          0         \n",
      "_________________________________________________________________\n",
      "batch_normalization_1 (Batch (None, 1, 4, 32)          128       \n",
      "_________________________________________________________________\n",
      "dropout_1 (Dropout)          (None, 1, 4, 32)          0         \n",
      "_________________________________________________________________\n",
      "flatten_1 (Flatten)          (None, 128)               0         \n",
      "_________________________________________________________________\n",
      "dense_1 (Dense)              (None, 256)               33024     \n",
      "_________________________________________________________________\n",
      "dropout_2 (Dropout)          (None, 256)               0         \n",
      "_________________________________________________________________\n",
      "dense_2 (Dense)              (None, 251)               64507     \n",
      "=================================================================\n",
      "Total params: 116,443\n",
      "Trainable params: 116,379\n",
      "Non-trainable params: 64\n",
      "_________________________________________________________________\n"
     ]
    }
   ],
   "source": [
    "#generate the breakdown of trainable parameters each step in the process\n",
    "model.summary()"
   ]
  },
  {
   "cell_type": "code",
   "execution_count": 7,
   "metadata": {},
   "outputs": [
    {
     "name": "stdout",
     "output_type": "stream",
     "text": [
      "Train on 18264 samples, validate on 5708 samples\n",
      "Epoch 1/5\n",
      "18264/18264 [==============================] - 6s 328us/step - loss: 4.6918 - acc: 0.0534 - val_loss: 3.7891 - val_acc: 0.1352\n",
      "Epoch 2/5\n",
      "18264/18264 [==============================] - 5s 292us/step - loss: 3.6363 - acc: 0.1458 - val_loss: 3.1854 - val_acc: 0.2309\n",
      "Epoch 3/5\n",
      "18264/18264 [==============================] - 5s 297us/step - loss: 3.1464 - acc: 0.2227 - val_loss: 2.7431 - val_acc: 0.3096\n",
      "Epoch 4/5\n",
      "18264/18264 [==============================] - 6s 327us/step - loss: 2.8132 - acc: 0.2827 - val_loss: 2.4824 - val_acc: 0.3607\n",
      "Epoch 5/5\n",
      "18264/18264 [==============================] - 6s 331us/step - loss: 2.6160 - acc: 0.3167 - val_loss: 2.3535 - val_acc: 0.4057\n"
     ]
    }
   ],
   "source": [
    "#compile the model\n",
    "model.compile(loss='categorical_crossentropy',metrics=['accuracy'],optimizer='adam')\n",
    "\n",
    "#train the model\n",
    "history=model.fit(x_train,y_trainHot,batch_size=32,epochs=5,validation_data=(x_test,y_testHot),callbacks=[MetricsCheckpoint('logs4D')], class_weight=class_weight)"
   ]
  },
  {
   "cell_type": "code",
   "execution_count": 8,
   "metadata": {},
   "outputs": [
    {
     "data": {
      "image/png": "[encoded data removed]",
      "text/plain": [
       "<Figure size 720x360 with 1 Axes>"
      ]
     },
     "metadata": {},
     "output_type": "display_data"
    }
   ],
   "source": [
    "#plot the learning and loss curves together\n",
    "plt.figure(figsize=(10,5))\n",
    "plt.plot(history.history['acc'], color='red')\n",
    "plt.plot(history.history['val_acc'], color='blue')\n",
    "plt.plot(history.history['loss'], color='green')\n",
    "plt.plot(history.history['val_loss'], color='orange')\n",
    "plt.title('Learning and Loss Curves')\n",
    "plt.ylim((0,4))\n",
    "plt.xlabel('Number of epochs')\n",
    "plt.ylabel('Accuracy & Loss')\n",
    "plt.legend(['train acc','val acc','train loss','val loss'], loc='upper right')\n",
    "plt.grid()\n",
    "plt.show()"
   ]
  },
  {
   "cell_type": "code",
   "execution_count": 10,
   "metadata": {},
   "outputs": [
    {
     "name": "stdout",
     "output_type": "stream",
     "text": [
      "4567/4567 [==============================] - 0s 80us/step\n"
     ]
    },
    {
     "data": {
      "text/plain": [
       "[2.3264379105109576, 0.40354718625845676]"
      ]
     },
     "execution_count": 10,
     "metadata": {},
     "output_type": "execute_result"
    }
   ],
   "source": [
    "#load the validation data\n",
    "x_val=np.load('base4_x_val.npy')\n",
    "y_valHot=np.load('base4_y_val.npy')\n",
    "#evaluate on outside data\n",
    "model.evaluate(x=x_val, y=y_valHot, batch_size=32)"
   ]
  },
  {
   "cell_type": "markdown",
   "metadata": {},
   "source": [
    "### 8 MFCCs"
   ]
  },
  {
   "cell_type": "code",
   "execution_count": 11,
   "metadata": {},
   "outputs": [],
   "source": [
    "#load the variables\n",
    "x_train=np.load('base8_x_train.npy')\n",
    "x_test=np.load('base8_x_test.npy')\n",
    "y_trainHot=np.load('base8_y_train.npy')\n",
    "y_testHot=np.load('base8_y_test.npy')\n",
    "class_weight=np.load('weights.npy')"
   ]
  },
  {
   "cell_type": "code",
   "execution_count": 12,
   "metadata": {},
   "outputs": [],
   "source": [
    "#deep learning model\n",
    "\n",
    "#a = x_train\n",
    "#b = y_trainHot\n",
    "#c = x_test\n",
    "#d = y_testHot\n",
    "def runCNNmodel(a,b,c,d):\n",
    "    #batch=32\n",
    "    #epochs=50\n",
    "    num_labels=251\n",
    "    one, two, three = x_train.shape[1], x_train.shape[2], x_train.shape[3]\n",
    "    input_shape = (one, two, three)\n",
    "    #intialize model\n",
    "    model=Sequential()\n",
    "    \n",
    "    #visible layers\n",
    "    model.add(Conv2D(filters=32, kernel_size=(1,1), activation='relu',input_shape=input_shape))\n",
    "    model.add(MaxPool2D(pool_size=(1,1)))\n",
    "    model.add(BatchNormalization())\n",
    "    model.add(Dropout(0.15)) \n",
    "    \n",
    "    model.add(Conv2D(filters=64, kernel_size=(1,1), activation='relu',input_shape=input_shape))\n",
    "    model.add(MaxPool2D(pool_size=(1,1)))\n",
    "    model.add(BatchNormalization())\n",
    "    model.add(Dropout(0.15))\n",
    "    \n",
    "   \n",
    "    #output nodes\n",
    "    model.add(Flatten())\n",
    "    model.add(Dense(256, activation='relu')) #hidden layers\n",
    "    model.add(Dropout(0.15))\n",
    "    model.add(Dense(num_labels, activation='softmax'))\n",
    "    \n",
    "    return model"
   ]
  },
  {
   "cell_type": "code",
   "execution_count": 13,
   "metadata": {},
   "outputs": [],
   "source": [
    "#run the model\n",
    "model=runCNNmodel(x_train,y_trainHot,x_test,y_testHot)"
   ]
  },
  {
   "cell_type": "code",
   "execution_count": 14,
   "metadata": {},
   "outputs": [
    {
     "name": "stdout",
     "output_type": "stream",
     "text": [
      "_________________________________________________________________\n",
      "Layer (type)                 Output Shape              Param #   \n",
      "=================================================================\n",
      "conv2d_2 (Conv2D)            (None, 1, 8, 32)          18784     \n",
      "_________________________________________________________________\n",
      "max_pooling2d_2 (MaxPooling2 (None, 1, 8, 32)          0         \n",
      "_________________________________________________________________\n",
      "batch_normalization_2 (Batch (None, 1, 8, 32)          128       \n",
      "_________________________________________________________________\n",
      "dropout_3 (Dropout)          (None, 1, 8, 32)          0         \n",
      "_________________________________________________________________\n",
      "conv2d_3 (Conv2D)            (None, 1, 8, 64)          2112      \n",
      "_________________________________________________________________\n",
      "max_pooling2d_3 (MaxPooling2 (None, 1, 8, 64)          0         \n",
      "_________________________________________________________________\n",
      "batch_normalization_3 (Batch (None, 1, 8, 64)          256       \n",
      "_________________________________________________________________\n",
      "dropout_4 (Dropout)          (None, 1, 8, 64)          0         \n",
      "_________________________________________________________________\n",
      "flatten_2 (Flatten)          (None, 512)               0         \n",
      "_________________________________________________________________\n",
      "dense_3 (Dense)              (None, 256)               131328    \n",
      "_________________________________________________________________\n",
      "dropout_5 (Dropout)          (None, 256)               0         \n",
      "_________________________________________________________________\n",
      "dense_4 (Dense)              (None, 251)               64507     \n",
      "=================================================================\n",
      "Total params: 217,115\n",
      "Trainable params: 216,923\n",
      "Non-trainable params: 192\n",
      "_________________________________________________________________\n"
     ]
    }
   ],
   "source": [
    "#generate the breakdown of trainable parameters each step in the process\n",
    "model.summary()"
   ]
  },
  {
   "cell_type": "code",
   "execution_count": 15,
   "metadata": {},
   "outputs": [
    {
     "name": "stdout",
     "output_type": "stream",
     "text": [
      "Train on 18264 samples, validate on 5708 samples\n",
      "Epoch 1/5\n",
      "18264/18264 [==============================] - 11s 596us/step - loss: 4.0395 - acc: 0.1477 - val_loss: 2.2480 - val_acc: 0.4340\n",
      "Epoch 2/5\n",
      "18264/18264 [==============================] - 10s 539us/step - loss: 2.1314 - acc: 0.4249 - val_loss: 1.4728 - val_acc: 0.5911\n",
      "Epoch 3/5\n",
      "18264/18264 [==============================] - 10s 534us/step - loss: 1.6823 - acc: 0.5249 - val_loss: 1.1673 - val_acc: 0.6647\n",
      "Epoch 4/5\n",
      "18264/18264 [==============================] - 9s 520us/step - loss: 1.3943 - acc: 0.5946 - val_loss: 0.9329 - val_acc: 0.7384\n",
      "Epoch 5/5\n",
      "18264/18264 [==============================] - 10s 556us/step - loss: 1.1936 - acc: 0.6482 - val_loss: 0.7985 - val_acc: 0.7730\n"
     ]
    }
   ],
   "source": [
    "#compile the model\n",
    "model.compile(loss='categorical_crossentropy',metrics=['accuracy'],optimizer='adam')\n",
    "\n",
    "#train the model\n",
    "history2=model.fit(x_train,y_trainHot,batch_size=32,epochs=5,validation_data=(x_test,y_testHot),callbacks=[MetricsCheckpoint('logs4D')], class_weight=class_weight)"
   ]
  },
  {
   "cell_type": "code",
   "execution_count": 16,
   "metadata": {},
   "outputs": [
    {
     "data": {
      "image/png": "[encoded data removed]",
      "text/plain": [
       "<Figure size 720x360 with 1 Axes>"
      ]
     },
     "metadata": {},
     "output_type": "display_data"
    }
   ],
   "source": [
    "#plot the learning and loss curves together\n",
    "plt.figure(figsize=(10,5))\n",
    "plt.plot(history2.history['acc'], color='red')\n",
    "plt.plot(history2.history['val_acc'], color='blue')\n",
    "plt.plot(history2.history['loss'], color='green')\n",
    "plt.plot(history2.history['val_loss'], color='orange')\n",
    "plt.title('Learning and Loss Curves')\n",
    "plt.ylim((0,4))\n",
    "plt.xlabel('Number of epochs')\n",
    "plt.ylabel('Accuracy & Loss')\n",
    "plt.legend(['train acc','val acc','train loss','val loss'], loc='upper right')\n",
    "plt.grid()\n",
    "plt.show()"
   ]
  },
  {
   "cell_type": "code",
   "execution_count": 17,
   "metadata": {},
   "outputs": [
    {
     "name": "stdout",
     "output_type": "stream",
     "text": [
      "4567/4567 [==============================] - 1s 111us/step\n"
     ]
    },
    {
     "data": {
      "text/plain": [
       "[0.7818515551855039, 0.7827895773639558]"
      ]
     },
     "execution_count": 17,
     "metadata": {},
     "output_type": "execute_result"
    }
   ],
   "source": [
    "#load the validation data\n",
    "x_val=np.load('base8_x_val.npy')\n",
    "y_valHot=np.load('base8_y_val.npy')\n",
    "#evaluate on outside data\n",
    "model.evaluate(x=x_val, y=y_valHot, batch_size=32)"
   ]
  },
  {
   "cell_type": "markdown",
   "metadata": {},
   "source": [
    "### 32 MFCCs"
   ]
  },
  {
   "cell_type": "code",
   "execution_count": 18,
   "metadata": {},
   "outputs": [],
   "source": [
    "#load the variables\n",
    "x_train=np.load('base_x_train.npy')\n",
    "x_test=np.load('base_x_test.npy')\n",
    "y_trainHot=np.load('base_y_train.npy')\n",
    "y_testHot=np.load('base_y_test.npy')\n",
    "class_weight=np.load('weights.npy')"
   ]
  },
  {
   "cell_type": "code",
   "execution_count": 19,
   "metadata": {},
   "outputs": [],
   "source": [
    "#deep learning model\n",
    "\n",
    "#a = x_train\n",
    "#b = y_trainHot\n",
    "#c = x_test\n",
    "#d = y_testHot\n",
    "def runCNNmodel(a,b,c,d):\n",
    "    #batch=32\n",
    "    #epochs=50\n",
    "    num_labels=251\n",
    "    one, two, three = x_train.shape[1], x_train.shape[2], x_train.shape[3]\n",
    "    input_shape = (one, two, three)\n",
    "    #intialize model\n",
    "    model=Sequential()\n",
    "    \n",
    "    #visible layers\n",
    "    model.add(Conv2D(filters=32, kernel_size=(1,1), activation='relu',input_shape=input_shape))\n",
    "    model.add(MaxPool2D(pool_size=(1,1)))\n",
    "    model.add(BatchNormalization())\n",
    "    model.add(Dropout(0.15)) \n",
    "    \n",
    "    #output nodes\n",
    "    model.add(Flatten())\n",
    "    model.add(Dense(256, activation='relu')) #hidden layers\n",
    "    model.add(Dropout(0.15))\n",
    "    model.add(Dense(num_labels, activation='softmax'))\n",
    "    \n",
    "    return model"
   ]
  },
  {
   "cell_type": "code",
   "execution_count": 20,
   "metadata": {},
   "outputs": [],
   "source": [
    "#run the model\n",
    "model=runCNNmodel(x_train,y_trainHot,x_test,y_testHot)"
   ]
  },
  {
   "cell_type": "code",
   "execution_count": 21,
   "metadata": {},
   "outputs": [
    {
     "name": "stdout",
     "output_type": "stream",
     "text": [
      "_________________________________________________________________\n",
      "Layer (type)                 Output Shape              Param #   \n",
      "=================================================================\n",
      "conv2d_4 (Conv2D)            (None, 1, 32, 32)         18784     \n",
      "_________________________________________________________________\n",
      "max_pooling2d_4 (MaxPooling2 (None, 1, 32, 32)         0         \n",
      "_________________________________________________________________\n",
      "batch_normalization_4 (Batch (None, 1, 32, 32)         128       \n",
      "_________________________________________________________________\n",
      "dropout_6 (Dropout)          (None, 1, 32, 32)         0         \n",
      "_________________________________________________________________\n",
      "flatten_3 (Flatten)          (None, 1024)              0         \n",
      "_________________________________________________________________\n",
      "dense_5 (Dense)              (None, 256)               262400    \n",
      "_________________________________________________________________\n",
      "dropout_7 (Dropout)          (None, 256)               0         \n",
      "_________________________________________________________________\n",
      "dense_6 (Dense)              (None, 251)               64507     \n",
      "=================================================================\n",
      "Total params: 345,819\n",
      "Trainable params: 345,755\n",
      "Non-trainable params: 64\n",
      "_________________________________________________________________\n"
     ]
    }
   ],
   "source": [
    "#generate the breakdown of trainable parameters each step in the process\n",
    "model.summary()"
   ]
  },
  {
   "cell_type": "code",
   "execution_count": 22,
   "metadata": {},
   "outputs": [
    {
     "name": "stdout",
     "output_type": "stream",
     "text": [
      "Train on 18264 samples, validate on 5708 samples\n",
      "Epoch 1/5\n",
      "18264/18264 [==============================] - 11s 581us/step - loss: 2.9576 - acc: 0.3788 - val_loss: 0.5101 - val_acc: 0.8961\n",
      "Epoch 2/5\n",
      "18264/18264 [==============================] - 11s 576us/step - loss: 0.4376 - acc: 0.8782 - val_loss: 0.1670 - val_acc: 0.9588\n",
      "Epoch 3/5\n",
      "18264/18264 [==============================] - 11s 606us/step - loss: 0.2216 - acc: 0.9346 - val_loss: 0.1107 - val_acc: 0.9707\n",
      "Epoch 4/5\n",
      "18264/18264 [==============================] - 11s 578us/step - loss: 0.1540 - acc: 0.9519 - val_loss: 0.0955 - val_acc: 0.9763\n",
      "Epoch 5/5\n",
      "18264/18264 [==============================] - 10s 559us/step - loss: 0.1185 - acc: 0.9637 - val_loss: 0.0694 - val_acc: 0.9825\n"
     ]
    }
   ],
   "source": [
    "#compile the model\n",
    "model.compile(loss='categorical_crossentropy',metrics=['accuracy'],optimizer='adam')\n",
    "\n",
    "#train the model\n",
    "history3=model.fit(x_train,y_trainHot,batch_size=32,epochs=5,validation_data=(x_test,y_testHot),callbacks=[MetricsCheckpoint('logs4D')], class_weight=class_weight)"
   ]
  },
  {
   "cell_type": "code",
   "execution_count": 27,
   "metadata": {},
   "outputs": [
    {
     "data": {
      "image/png": "[encoded data removed]",
      "text/plain": [
       "<Figure size 720x360 with 1 Axes>"
      ]
     },
     "metadata": {},
     "output_type": "display_data"
    }
   ],
   "source": [
    "#plot the learning and loss curves together\n",
    "plt.figure(figsize=(10,5))\n",
    "plt.plot(history3.history['acc'], color='red')\n",
    "plt.plot(history3.history['val_acc'], color='blue')\n",
    "plt.plot(history3.history['loss'], color='green')\n",
    "plt.plot(history3.history['val_loss'], color='orange')\n",
    "plt.title('Learning and Loss Curves')\n",
    "plt.ylim((0,1.5))\n",
    "plt.xlabel('Number of epochs')\n",
    "plt.ylabel('Accuracy & Loss')\n",
    "plt.legend(['train acc','val acc','train loss','val loss'], loc='upper right')\n",
    "plt.grid()\n",
    "plt.show()"
   ]
  },
  {
   "cell_type": "code",
   "execution_count": 24,
   "metadata": {},
   "outputs": [
    {
     "name": "stdout",
     "output_type": "stream",
     "text": [
      "4567/4567 [==============================] - 1s 185us/step\n"
     ]
    },
    {
     "data": {
      "text/plain": [
       "[0.07095397055925623, 0.9809502956510661]"
      ]
     },
     "execution_count": 24,
     "metadata": {},
     "output_type": "execute_result"
    }
   ],
   "source": [
    "#load the validation data\n",
    "x_val=np.load('base_x_val.npy')\n",
    "y_valHot=np.load('base_y_val.npy')\n",
    "#evaluate on outside data\n",
    "model.evaluate(x=x_val, y=y_valHot, batch_size=32)"
   ]
  },
  {
   "cell_type": "markdown",
   "metadata": {},
   "source": [
    "### compare val accuracy by # of MFCCs"
   ]
  },
  {
   "cell_type": "code",
   "execution_count": 25,
   "metadata": {},
   "outputs": [
    {
     "data": {
      "image/png": "[encoded data removed]",
      "text/plain": [
       "<Figure size 720x360 with 1 Axes>"
      ]
     },
     "metadata": {},
     "output_type": "display_data"
    }
   ],
   "source": [
    "#4 MFCC vs 8 MFCC vs 32 MFCC by validation accuracy\n",
    "plt.figure(figsize=(10,5))\n",
    "plt.plot(history.history['val_acc'], color='purple')\n",
    "plt.plot(history2.history['val_acc'], color='pink')\n",
    "plt.plot(history3.history['val_acc'], color='brown')\n",
    "plt.title('Validation by MFCC')\n",
    "plt.ylim((0,1))\n",
    "plt.xlabel('Number of epochs')\n",
    "plt.ylabel('Accuracy')\n",
    "plt.legend(['4 MFCC','8 MFCC','32 MFCC'], loc='lower right')\n",
    "plt.grid()\n",
    "plt.show()"
   ]
  }
 ],
 "metadata": {
  "kernelspec": {
   "display_name": "Python 3",
   "language": "python",
   "name": "python3"
  },
  "language_info": {
   "codemirror_mode": {
    "name": "ipython",
    "version": 3
   },
   "file_extension": ".py",
   "mimetype": "text/x-python",
   "name": "python",
   "nbconvert_exporter": "python",
   "pygments_lexer": "ipython3",
   "version": "3.5.2"
  }
 },
 "nbformat": 4,
 "nbformat_minor": 2
}
